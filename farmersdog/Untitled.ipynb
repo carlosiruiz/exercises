{
 "cells": [
  {
   "cell_type": "code",
   "execution_count": 1,
   "metadata": {
    "ExecuteTime": {
     "end_time": "2021-07-25T16:29:45.163757Z",
     "start_time": "2021-07-25T16:29:44.560112Z"
    }
   },
   "outputs": [],
   "source": [
    "import pandas as pd"
   ]
  },
  {
   "cell_type": "code",
   "execution_count": 67,
   "metadata": {
    "ExecuteTime": {
     "end_time": "2021-07-25T18:16:46.305554Z",
     "start_time": "2021-07-25T18:16:46.003756Z"
    }
   },
   "outputs": [],
   "source": [
    "df=pd.read_csv('https://s3.amazonaws.com/interview.thefarmersdog.com/DA20b/general_store_sample_data.csv')"
   ]
  },
  {
   "cell_type": "code",
   "execution_count": 123,
   "metadata": {
    "ExecuteTime": {
     "end_time": "2021-07-25T19:03:08.359578Z",
     "start_time": "2021-07-25T19:03:08.351643Z"
    }
   },
   "outputs": [
    {
     "data": {
      "text/plain": [
       "93995.0"
      ]
     },
     "execution_count": 123,
     "metadata": {},
     "output_type": "execute_result"
    }
   ],
   "source": [
    "df1=df.loc[df['country'].isin(['US','FR','ES'])]\n",
    "df1=df1[df1.year==2013]\n",
    "df1['revenue'].median().round()"
   ]
  },
  {
   "cell_type": "code",
   "execution_count": 124,
   "metadata": {
    "ExecuteTime": {
     "end_time": "2021-07-25T19:04:47.040587Z",
     "start_time": "2021-07-25T19:04:47.027343Z"
    }
   },
   "outputs": [
    {
     "data": {
      "text/html": [
       "<div>\n",
       "<style scoped>\n",
       "    .dataframe tbody tr th:only-of-type {\n",
       "        vertical-align: middle;\n",
       "    }\n",
       "\n",
       "    .dataframe tbody tr th {\n",
       "        vertical-align: top;\n",
       "    }\n",
       "\n",
       "    .dataframe thead th {\n",
       "        text-align: right;\n",
       "    }\n",
       "</style>\n",
       "<table border=\"1\" class=\"dataframe\">\n",
       "  <thead>\n",
       "    <tr style=\"text-align: right;\">\n",
       "      <th></th>\n",
       "      <th>product_group</th>\n",
       "      <th>country</th>\n",
       "      <th>year</th>\n",
       "      <th>revenue</th>\n",
       "    </tr>\n",
       "  </thead>\n",
       "  <tbody>\n",
       "    <tr>\n",
       "      <th>13</th>\n",
       "      <td>automobile</td>\n",
       "      <td>ES</td>\n",
       "      <td>2013</td>\n",
       "      <td>193957.392701</td>\n",
       "    </tr>\n",
       "    <tr>\n",
       "      <th>16</th>\n",
       "      <td>automobile</td>\n",
       "      <td>FR</td>\n",
       "      <td>2013</td>\n",
       "      <td>197659.861858</td>\n",
       "    </tr>\n",
       "    <tr>\n",
       "      <th>22</th>\n",
       "      <td>automobile</td>\n",
       "      <td>US</td>\n",
       "      <td>2013</td>\n",
       "      <td>198326.241130</td>\n",
       "    </tr>\n",
       "    <tr>\n",
       "      <th>43</th>\n",
       "      <td>clothing</td>\n",
       "      <td>ES</td>\n",
       "      <td>2013</td>\n",
       "      <td>3112.439556</td>\n",
       "    </tr>\n",
       "    <tr>\n",
       "      <th>46</th>\n",
       "      <td>clothing</td>\n",
       "      <td>FR</td>\n",
       "      <td>2013</td>\n",
       "      <td>3346.136628</td>\n",
       "    </tr>\n",
       "    <tr>\n",
       "      <th>52</th>\n",
       "      <td>clothing</td>\n",
       "      <td>US</td>\n",
       "      <td>2013</td>\n",
       "      <td>1926.057675</td>\n",
       "    </tr>\n",
       "    <tr>\n",
       "      <th>73</th>\n",
       "      <td>electronics</td>\n",
       "      <td>ES</td>\n",
       "      <td>2013</td>\n",
       "      <td>20348.102661</td>\n",
       "    </tr>\n",
       "    <tr>\n",
       "      <th>76</th>\n",
       "      <td>electronics</td>\n",
       "      <td>FR</td>\n",
       "      <td>2013</td>\n",
       "      <td>19615.283429</td>\n",
       "    </tr>\n",
       "    <tr>\n",
       "      <th>82</th>\n",
       "      <td>electronics</td>\n",
       "      <td>US</td>\n",
       "      <td>2013</td>\n",
       "      <td>19824.931554</td>\n",
       "    </tr>\n",
       "    <tr>\n",
       "      <th>103</th>\n",
       "      <td>furniture</td>\n",
       "      <td>ES</td>\n",
       "      <td>2013</td>\n",
       "      <td>20932.974245</td>\n",
       "    </tr>\n",
       "    <tr>\n",
       "      <th>106</th>\n",
       "      <td>furniture</td>\n",
       "      <td>FR</td>\n",
       "      <td>2013</td>\n",
       "      <td>19032.585917</td>\n",
       "    </tr>\n",
       "    <tr>\n",
       "      <th>112</th>\n",
       "      <td>furniture</td>\n",
       "      <td>US</td>\n",
       "      <td>2013</td>\n",
       "      <td>20146.534817</td>\n",
       "    </tr>\n",
       "    <tr>\n",
       "      <th>133</th>\n",
       "      <td>groceries</td>\n",
       "      <td>ES</td>\n",
       "      <td>2013</td>\n",
       "      <td>203526.211415</td>\n",
       "    </tr>\n",
       "    <tr>\n",
       "      <th>136</th>\n",
       "      <td>groceries</td>\n",
       "      <td>FR</td>\n",
       "      <td>2013</td>\n",
       "      <td>223017.380291</td>\n",
       "    </tr>\n",
       "    <tr>\n",
       "      <th>142</th>\n",
       "      <td>groceries</td>\n",
       "      <td>US</td>\n",
       "      <td>2013</td>\n",
       "      <td>167057.544454</td>\n",
       "    </tr>\n",
       "    <tr>\n",
       "      <th>163</th>\n",
       "      <td>office supplies</td>\n",
       "      <td>ES</td>\n",
       "      <td>2013</td>\n",
       "      <td>191076.730457</td>\n",
       "    </tr>\n",
       "    <tr>\n",
       "      <th>166</th>\n",
       "      <td>office supplies</td>\n",
       "      <td>FR</td>\n",
       "      <td>2013</td>\n",
       "      <td>209669.100729</td>\n",
       "    </tr>\n",
       "    <tr>\n",
       "      <th>172</th>\n",
       "      <td>office supplies</td>\n",
       "      <td>US</td>\n",
       "      <td>2013</td>\n",
       "      <td>207829.132649</td>\n",
       "    </tr>\n",
       "  </tbody>\n",
       "</table>\n",
       "</div>"
      ],
      "text/plain": [
       "       product_group country  year        revenue\n",
       "13        automobile      ES  2013  193957.392701\n",
       "16        automobile      FR  2013  197659.861858\n",
       "22        automobile      US  2013  198326.241130\n",
       "43          clothing      ES  2013    3112.439556\n",
       "46          clothing      FR  2013    3346.136628\n",
       "52          clothing      US  2013    1926.057675\n",
       "73       electronics      ES  2013   20348.102661\n",
       "76       electronics      FR  2013   19615.283429\n",
       "82       electronics      US  2013   19824.931554\n",
       "103        furniture      ES  2013   20932.974245\n",
       "106        furniture      FR  2013   19032.585917\n",
       "112        furniture      US  2013   20146.534817\n",
       "133        groceries      ES  2013  203526.211415\n",
       "136        groceries      FR  2013  223017.380291\n",
       "142        groceries      US  2013  167057.544454\n",
       "163  office supplies      ES  2013  191076.730457\n",
       "166  office supplies      FR  2013  209669.100729\n",
       "172  office supplies      US  2013  207829.132649"
      ]
     },
     "execution_count": 124,
     "metadata": {},
     "output_type": "execute_result"
    }
   ],
   "source": [
    "df1"
   ]
  },
  {
   "cell_type": "code",
   "execution_count": 121,
   "metadata": {
    "ExecuteTime": {
     "end_time": "2021-07-25T19:02:54.724698Z",
     "start_time": "2021-07-25T19:02:54.715736Z"
    }
   },
   "outputs": [
    {
     "data": {
      "text/plain": [
       "84380.0"
      ]
     },
     "execution_count": 121,
     "metadata": {},
     "output_type": "execute_result"
    }
   ],
   "source": [
    "df2=df.loc[df['country'].isin(['US','FR','ES'])]\n",
    "df2=df2[df2.year==2012]\n",
    "df2['revenue'].median().round()"
   ]
  },
  {
   "cell_type": "code",
   "execution_count": 125,
   "metadata": {
    "ExecuteTime": {
     "end_time": "2021-07-25T19:05:16.019546Z",
     "start_time": "2021-07-25T19:05:16.008112Z"
    }
   },
   "outputs": [
    {
     "data": {
      "text/html": [
       "<div>\n",
       "<style scoped>\n",
       "    .dataframe tbody tr th:only-of-type {\n",
       "        vertical-align: middle;\n",
       "    }\n",
       "\n",
       "    .dataframe tbody tr th {\n",
       "        vertical-align: top;\n",
       "    }\n",
       "\n",
       "    .dataframe thead th {\n",
       "        text-align: right;\n",
       "    }\n",
       "</style>\n",
       "<table border=\"1\" class=\"dataframe\">\n",
       "  <thead>\n",
       "    <tr style=\"text-align: right;\">\n",
       "      <th></th>\n",
       "      <th>product_group</th>\n",
       "      <th>country</th>\n",
       "      <th>year</th>\n",
       "      <th>revenue</th>\n",
       "    </tr>\n",
       "  </thead>\n",
       "  <tbody>\n",
       "    <tr>\n",
       "      <th>12</th>\n",
       "      <td>automobile</td>\n",
       "      <td>ES</td>\n",
       "      <td>2012</td>\n",
       "      <td>200855.769705</td>\n",
       "    </tr>\n",
       "    <tr>\n",
       "      <th>15</th>\n",
       "      <td>automobile</td>\n",
       "      <td>FR</td>\n",
       "      <td>2012</td>\n",
       "      <td>190734.681478</td>\n",
       "    </tr>\n",
       "    <tr>\n",
       "      <th>21</th>\n",
       "      <td>automobile</td>\n",
       "      <td>US</td>\n",
       "      <td>2012</td>\n",
       "      <td>201789.701386</td>\n",
       "    </tr>\n",
       "    <tr>\n",
       "      <th>42</th>\n",
       "      <td>clothing</td>\n",
       "      <td>ES</td>\n",
       "      <td>2012</td>\n",
       "      <td>1081.705380</td>\n",
       "    </tr>\n",
       "    <tr>\n",
       "      <th>45</th>\n",
       "      <td>clothing</td>\n",
       "      <td>FR</td>\n",
       "      <td>2012</td>\n",
       "      <td>1873.328854</td>\n",
       "    </tr>\n",
       "    <tr>\n",
       "      <th>51</th>\n",
       "      <td>clothing</td>\n",
       "      <td>US</td>\n",
       "      <td>2012</td>\n",
       "      <td>1865.099225</td>\n",
       "    </tr>\n",
       "    <tr>\n",
       "      <th>72</th>\n",
       "      <td>electronics</td>\n",
       "      <td>ES</td>\n",
       "      <td>2012</td>\n",
       "      <td>19505.467477</td>\n",
       "    </tr>\n",
       "    <tr>\n",
       "      <th>75</th>\n",
       "      <td>electronics</td>\n",
       "      <td>FR</td>\n",
       "      <td>2012</td>\n",
       "      <td>20352.772353</td>\n",
       "    </tr>\n",
       "    <tr>\n",
       "      <th>81</th>\n",
       "      <td>electronics</td>\n",
       "      <td>US</td>\n",
       "      <td>2012</td>\n",
       "      <td>20175.308824</td>\n",
       "    </tr>\n",
       "    <tr>\n",
       "      <th>102</th>\n",
       "      <td>furniture</td>\n",
       "      <td>ES</td>\n",
       "      <td>2012</td>\n",
       "      <td>19799.618154</td>\n",
       "    </tr>\n",
       "    <tr>\n",
       "      <th>105</th>\n",
       "      <td>furniture</td>\n",
       "      <td>FR</td>\n",
       "      <td>2012</td>\n",
       "      <td>21392.753665</td>\n",
       "    </tr>\n",
       "    <tr>\n",
       "      <th>111</th>\n",
       "      <td>furniture</td>\n",
       "      <td>US</td>\n",
       "      <td>2012</td>\n",
       "      <td>19864.197324</td>\n",
       "    </tr>\n",
       "    <tr>\n",
       "      <th>132</th>\n",
       "      <td>groceries</td>\n",
       "      <td>ES</td>\n",
       "      <td>2012</td>\n",
       "      <td>147368.003437</td>\n",
       "    </tr>\n",
       "    <tr>\n",
       "      <th>135</th>\n",
       "      <td>groceries</td>\n",
       "      <td>FR</td>\n",
       "      <td>2012</td>\n",
       "      <td>238991.336675</td>\n",
       "    </tr>\n",
       "    <tr>\n",
       "      <th>141</th>\n",
       "      <td>groceries</td>\n",
       "      <td>US</td>\n",
       "      <td>2012</td>\n",
       "      <td>208650.102119</td>\n",
       "    </tr>\n",
       "    <tr>\n",
       "      <th>162</th>\n",
       "      <td>office supplies</td>\n",
       "      <td>ES</td>\n",
       "      <td>2012</td>\n",
       "      <td>206106.329950</td>\n",
       "    </tr>\n",
       "    <tr>\n",
       "      <th>165</th>\n",
       "      <td>office supplies</td>\n",
       "      <td>FR</td>\n",
       "      <td>2012</td>\n",
       "      <td>201274.506404</td>\n",
       "    </tr>\n",
       "    <tr>\n",
       "      <th>171</th>\n",
       "      <td>office supplies</td>\n",
       "      <td>US</td>\n",
       "      <td>2012</td>\n",
       "      <td>207157.981951</td>\n",
       "    </tr>\n",
       "  </tbody>\n",
       "</table>\n",
       "</div>"
      ],
      "text/plain": [
       "       product_group country  year        revenue\n",
       "12        automobile      ES  2012  200855.769705\n",
       "15        automobile      FR  2012  190734.681478\n",
       "21        automobile      US  2012  201789.701386\n",
       "42          clothing      ES  2012    1081.705380\n",
       "45          clothing      FR  2012    1873.328854\n",
       "51          clothing      US  2012    1865.099225\n",
       "72       electronics      ES  2012   19505.467477\n",
       "75       electronics      FR  2012   20352.772353\n",
       "81       electronics      US  2012   20175.308824\n",
       "102        furniture      ES  2012   19799.618154\n",
       "105        furniture      FR  2012   21392.753665\n",
       "111        furniture      US  2012   19864.197324\n",
       "132        groceries      ES  2012  147368.003437\n",
       "135        groceries      FR  2012  238991.336675\n",
       "141        groceries      US  2012  208650.102119\n",
       "162  office supplies      ES  2012  206106.329950\n",
       "165  office supplies      FR  2012  201274.506404\n",
       "171  office supplies      US  2012  207157.981951"
      ]
     },
     "execution_count": 125,
     "metadata": {},
     "output_type": "execute_result"
    }
   ],
   "source": [
    "df2"
   ]
  },
  {
   "cell_type": "code",
   "execution_count": null,
   "metadata": {},
   "outputs": [],
   "source": []
  },
  {
   "cell_type": "code",
   "execution_count": 69,
   "metadata": {
    "ExecuteTime": {
     "end_time": "2021-07-25T18:16:46.656329Z",
     "start_time": "2021-07-25T18:16:46.653833Z"
    }
   },
   "outputs": [],
   "source": [
    "#df.to_csv('farmers_dogs.csv',index=False)"
   ]
  },
  {
   "cell_type": "code",
   "execution_count": 90,
   "metadata": {
    "ExecuteTime": {
     "end_time": "2021-07-25T18:26:34.290158Z",
     "start_time": "2021-07-25T18:26:34.280464Z"
    }
   },
   "outputs": [],
   "source": [
    "product= pd.melt(df.groupby(['product_group','year']).median().T)"
   ]
  },
  {
   "cell_type": "code",
   "execution_count": 102,
   "metadata": {
    "ExecuteTime": {
     "end_time": "2021-07-25T18:30:06.545411Z",
     "start_time": "2021-07-25T18:30:06.539999Z"
    }
   },
   "outputs": [],
   "source": [
    "years=product.loc[product['year'].isin([2013,2014])].reset_index(drop=True)"
   ]
  },
  {
   "cell_type": "code",
   "execution_count": 103,
   "metadata": {
    "ExecuteTime": {
     "end_time": "2021-07-25T18:30:07.068445Z",
     "start_time": "2021-07-25T18:30:07.058150Z"
    }
   },
   "outputs": [
    {
     "data": {
      "text/html": [
       "<div>\n",
       "<style scoped>\n",
       "    .dataframe tbody tr th:only-of-type {\n",
       "        vertical-align: middle;\n",
       "    }\n",
       "\n",
       "    .dataframe tbody tr th {\n",
       "        vertical-align: top;\n",
       "    }\n",
       "\n",
       "    .dataframe thead th {\n",
       "        text-align: right;\n",
       "    }\n",
       "</style>\n",
       "<table border=\"1\" class=\"dataframe\">\n",
       "  <thead>\n",
       "    <tr style=\"text-align: right;\">\n",
       "      <th></th>\n",
       "      <th>product_group</th>\n",
       "      <th>year</th>\n",
       "      <th>value</th>\n",
       "    </tr>\n",
       "  </thead>\n",
       "  <tbody>\n",
       "    <tr>\n",
       "      <th>0</th>\n",
       "      <td>automobile</td>\n",
       "      <td>2013</td>\n",
       "      <td>197911.020443</td>\n",
       "    </tr>\n",
       "    <tr>\n",
       "      <th>1</th>\n",
       "      <td>automobile</td>\n",
       "      <td>2014</td>\n",
       "      <td>197352.522728</td>\n",
       "    </tr>\n",
       "    <tr>\n",
       "      <th>2</th>\n",
       "      <td>clothing</td>\n",
       "      <td>2013</td>\n",
       "      <td>2054.263074</td>\n",
       "    </tr>\n",
       "    <tr>\n",
       "      <th>3</th>\n",
       "      <td>clothing</td>\n",
       "      <td>2014</td>\n",
       "      <td>1634.452568</td>\n",
       "    </tr>\n",
       "    <tr>\n",
       "      <th>4</th>\n",
       "      <td>electronics</td>\n",
       "      <td>2013</td>\n",
       "      <td>20077.937997</td>\n",
       "    </tr>\n",
       "    <tr>\n",
       "      <th>5</th>\n",
       "      <td>electronics</td>\n",
       "      <td>2014</td>\n",
       "      <td>19630.570362</td>\n",
       "    </tr>\n",
       "    <tr>\n",
       "      <th>6</th>\n",
       "      <td>furniture</td>\n",
       "      <td>2013</td>\n",
       "      <td>20037.202212</td>\n",
       "    </tr>\n",
       "    <tr>\n",
       "      <th>7</th>\n",
       "      <td>furniture</td>\n",
       "      <td>2014</td>\n",
       "      <td>20284.127373</td>\n",
       "    </tr>\n",
       "    <tr>\n",
       "      <th>8</th>\n",
       "      <td>groceries</td>\n",
       "      <td>2013</td>\n",
       "      <td>210322.103338</td>\n",
       "    </tr>\n",
       "    <tr>\n",
       "      <th>9</th>\n",
       "      <td>groceries</td>\n",
       "      <td>2014</td>\n",
       "      <td>200447.650995</td>\n",
       "    </tr>\n",
       "    <tr>\n",
       "      <th>10</th>\n",
       "      <td>office supplies</td>\n",
       "      <td>2013</td>\n",
       "      <td>201385.951152</td>\n",
       "    </tr>\n",
       "    <tr>\n",
       "      <th>11</th>\n",
       "      <td>office supplies</td>\n",
       "      <td>2014</td>\n",
       "      <td>199425.839641</td>\n",
       "    </tr>\n",
       "  </tbody>\n",
       "</table>\n",
       "</div>"
      ],
      "text/plain": [
       "      product_group  year          value\n",
       "0        automobile  2013  197911.020443\n",
       "1        automobile  2014  197352.522728\n",
       "2          clothing  2013    2054.263074\n",
       "3          clothing  2014    1634.452568\n",
       "4       electronics  2013   20077.937997\n",
       "5       electronics  2014   19630.570362\n",
       "6         furniture  2013   20037.202212\n",
       "7         furniture  2014   20284.127373\n",
       "8         groceries  2013  210322.103338\n",
       "9         groceries  2014  200447.650995\n",
       "10  office supplies  2013  201385.951152\n",
       "11  office supplies  2014  199425.839641"
      ]
     },
     "execution_count": 103,
     "metadata": {},
     "output_type": "execute_result"
    }
   ],
   "source": [
    "years"
   ]
  },
  {
   "cell_type": "code",
   "execution_count": 110,
   "metadata": {
    "ExecuteTime": {
     "end_time": "2021-07-25T18:35:45.136748Z",
     "start_time": "2021-07-25T18:35:45.129679Z"
    }
   },
   "outputs": [
    {
     "name": "stdout",
     "output_type": "stream",
     "text": [
      "automobile 0.28219636969024364\n",
      "clothing 20.43606347059136\n",
      "electronics 2.2281552766951123\n",
      "furniture -1.2323335274120215\n",
      "groceries 4.69491897738115\n",
      "office supplies 0.9733109484008082\n"
     ]
    }
   ],
   "source": [
    "for i in range(len(years.index)-1):\n",
    "    if i%2 !=0:\n",
    "        pass\n",
    "    else:\n",
    "        avg_dif= (((years.value[i]-years.value[i+1])/years.value[i])*100)\n",
    "        print(years.product_group[i], avg_dif)"
   ]
  },
  {
   "cell_type": "code",
   "execution_count": 113,
   "metadata": {
    "ExecuteTime": {
     "end_time": "2021-07-25T18:42:52.679251Z",
     "start_time": "2021-07-25T18:42:52.673053Z"
    }
   },
   "outputs": [
    {
     "name": "stdout",
     "output_type": "stream",
     "text": [
      "automobile -558.4977149070182\n",
      "clothing -419.81050556684\n",
      "electronics -447.36763493015314\n",
      "furniture 246.92516081839858\n",
      "groceries -9874.452343259996\n",
      "office supplies -1960.111511107476\n"
     ]
    }
   ],
   "source": [
    "for i in range(len(years.index)-1):\n",
    "    if i%2 !=0:\n",
    "        pass\n",
    "    else:\n",
    "        avg_dif= (years.value[i+1]-years.value[i])\n",
    "        print(years.product_group[i], avg_dif)"
   ]
  },
  {
   "cell_type": "code",
   "execution_count": 114,
   "metadata": {
    "ExecuteTime": {
     "end_time": "2021-07-25T18:59:25.027597Z",
     "start_time": "2021-07-25T18:59:24.979263Z"
    }
   },
   "outputs": [
    {
     "data": {
      "text/html": [
       "<div>\n",
       "<style scoped>\n",
       "    .dataframe tbody tr th:only-of-type {\n",
       "        vertical-align: middle;\n",
       "    }\n",
       "\n",
       "    .dataframe tbody tr th {\n",
       "        vertical-align: top;\n",
       "    }\n",
       "\n",
       "    .dataframe thead th {\n",
       "        text-align: right;\n",
       "    }\n",
       "</style>\n",
       "<table border=\"1\" class=\"dataframe\">\n",
       "  <thead>\n",
       "    <tr style=\"text-align: right;\">\n",
       "      <th></th>\n",
       "      <th>product_group</th>\n",
       "      <th>country</th>\n",
       "      <th>year</th>\n",
       "      <th>revenue</th>\n",
       "    </tr>\n",
       "  </thead>\n",
       "  <tbody>\n",
       "    <tr>\n",
       "      <th>0</th>\n",
       "      <td>automobile</td>\n",
       "      <td>BR</td>\n",
       "      <td>2012</td>\n",
       "      <td>206937.326525</td>\n",
       "    </tr>\n",
       "    <tr>\n",
       "      <th>1</th>\n",
       "      <td>automobile</td>\n",
       "      <td>BR</td>\n",
       "      <td>2013</td>\n",
       "      <td>199547.386832</td>\n",
       "    </tr>\n",
       "    <tr>\n",
       "      <th>2</th>\n",
       "      <td>automobile</td>\n",
       "      <td>BR</td>\n",
       "      <td>2014</td>\n",
       "      <td>192515.411446</td>\n",
       "    </tr>\n",
       "    <tr>\n",
       "      <th>3</th>\n",
       "      <td>automobile</td>\n",
       "      <td>CA</td>\n",
       "      <td>2012</td>\n",
       "      <td>197552.325143</td>\n",
       "    </tr>\n",
       "    <tr>\n",
       "      <th>4</th>\n",
       "      <td>automobile</td>\n",
       "      <td>CA</td>\n",
       "      <td>2013</td>\n",
       "      <td>197965.016752</td>\n",
       "    </tr>\n",
       "    <tr>\n",
       "      <th>...</th>\n",
       "      <td>...</td>\n",
       "      <td>...</td>\n",
       "      <td>...</td>\n",
       "      <td>...</td>\n",
       "    </tr>\n",
       "    <tr>\n",
       "      <th>175</th>\n",
       "      <td>office supplies</td>\n",
       "      <td>ZA</td>\n",
       "      <td>2013</td>\n",
       "      <td>208051.353956</td>\n",
       "    </tr>\n",
       "    <tr>\n",
       "      <th>176</th>\n",
       "      <td>office supplies</td>\n",
       "      <td>ZA</td>\n",
       "      <td>2014</td>\n",
       "      <td>214117.720539</td>\n",
       "    </tr>\n",
       "    <tr>\n",
       "      <th>177</th>\n",
       "      <td>office supplies</td>\n",
       "      <td>ZH</td>\n",
       "      <td>2012</td>\n",
       "      <td>189211.781700</td>\n",
       "    </tr>\n",
       "    <tr>\n",
       "      <th>178</th>\n",
       "      <td>office supplies</td>\n",
       "      <td>ZH</td>\n",
       "      <td>2013</td>\n",
       "      <td>191593.130571</td>\n",
       "    </tr>\n",
       "    <tr>\n",
       "      <th>179</th>\n",
       "      <td>office supplies</td>\n",
       "      <td>ZH</td>\n",
       "      <td>2014</td>\n",
       "      <td>199955.850031</td>\n",
       "    </tr>\n",
       "  </tbody>\n",
       "</table>\n",
       "<p>180 rows × 4 columns</p>\n",
       "</div>"
      ],
      "text/plain": [
       "       product_group country  year        revenue\n",
       "0         automobile      BR  2012  206937.326525\n",
       "1         automobile      BR  2013  199547.386832\n",
       "2         automobile      BR  2014  192515.411446\n",
       "3         automobile      CA  2012  197552.325143\n",
       "4         automobile      CA  2013  197965.016752\n",
       "..               ...     ...   ...            ...\n",
       "175  office supplies      ZA  2013  208051.353956\n",
       "176  office supplies      ZA  2014  214117.720539\n",
       "177  office supplies      ZH  2012  189211.781700\n",
       "178  office supplies      ZH  2013  191593.130571\n",
       "179  office supplies      ZH  2014  199955.850031\n",
       "\n",
       "[180 rows x 4 columns]"
      ]
     },
     "execution_count": 114,
     "metadata": {},
     "output_type": "execute_result"
    }
   ],
   "source": [
    "df"
   ]
  },
  {
   "cell_type": "code",
   "execution_count": null,
   "metadata": {},
   "outputs": [],
   "source": []
  }
 ],
 "metadata": {
  "kernelspec": {
   "display_name": "Python 3",
   "language": "python",
   "name": "python3"
  },
  "language_info": {
   "codemirror_mode": {
    "name": "ipython",
    "version": 3
   },
   "file_extension": ".py",
   "mimetype": "text/x-python",
   "name": "python",
   "nbconvert_exporter": "python",
   "pygments_lexer": "ipython3",
   "version": "3.8.3"
  }
 },
 "nbformat": 4,
 "nbformat_minor": 4
}
