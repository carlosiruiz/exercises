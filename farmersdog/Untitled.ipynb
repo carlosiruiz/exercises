{
 "cells": [
  {
   "cell_type": "code",
   "execution_count": 1,
   "metadata": {
    "ExecuteTime": {
     "end_time": "2021-07-25T16:29:45.163757Z",
     "start_time": "2021-07-25T16:29:44.560112Z"
    }
   },
   "outputs": [],
   "source": [
    "import pandas as pd"
   ]
  },
  {
   "cell_type": "code",
   "execution_count": 67,
   "metadata": {
    "ExecuteTime": {
     "end_time": "2021-07-25T18:16:46.305554Z",
     "start_time": "2021-07-25T18:16:46.003756Z"
    }
   },
   "outputs": [],
   "source": [
    "df=pd.read_csv('https://s3.amazonaws.com/interview.thefarmersdog.com/DA20b/general_store_sample_data.csv')"
   ]
  },
  {
   "cell_type": "code",
   "execution_count": 123,
   "metadata": {
    "ExecuteTime": {
     "end_time": "2021-07-25T19:03:08.359578Z",
     "start_time": "2021-07-25T19:03:08.351643Z"
    }
   },
   "outputs": [
    {
     "data": {
      "text/plain": [
       "93995.0"
      ]
     },
     "execution_count": 123,
     "metadata": {},
     "output_type": "execute_result"
    }
   ],
   "source": [
    "df1=df.loc[df['country'].isin(['US','FR','ES'])]\n",
    "df1=df1[df1.year==2013]\n",
    "df1['revenue'].median().round()"
   ]
  },
  {
   "cell_type": "code",
   "execution_count": 138,
   "metadata": {
    "ExecuteTime": {
     "end_time": "2021-07-25T19:10:26.034241Z",
     "start_time": "2021-07-25T19:10:26.027408Z"
    }
   },
   "outputs": [],
   "source": [
    "v1=df1.groupby('product_group').median()"
   ]
  },
  {
   "cell_type": "code",
   "execution_count": 121,
   "metadata": {
    "ExecuteTime": {
     "end_time": "2021-07-25T19:02:54.724698Z",
     "start_time": "2021-07-25T19:02:54.715736Z"
    }
   },
   "outputs": [
    {
     "data": {
      "text/plain": [
       "84380.0"
      ]
     },
     "execution_count": 121,
     "metadata": {},
     "output_type": "execute_result"
    }
   ],
   "source": [
    "df2=df.loc[df['country'].isin(['US','FR','ES'])]\n",
    "df2=df2[df2.year==2012]\n",
    "df2['revenue'].median().round()"
   ]
  },
  {
   "cell_type": "code",
   "execution_count": 139,
   "metadata": {
    "ExecuteTime": {
     "end_time": "2021-07-25T19:10:28.108749Z",
     "start_time": "2021-07-25T19:10:28.101800Z"
    }
   },
   "outputs": [],
   "source": [
    "v2=df2.groupby('product_group').median()"
   ]
  },
  {
   "cell_type": "code",
   "execution_count": 150,
   "metadata": {
    "ExecuteTime": {
     "end_time": "2021-07-25T19:15:13.976367Z",
     "start_time": "2021-07-25T19:15:13.971141Z"
    }
   },
   "outputs": [
    {
     "data": {
      "text/plain": [
       "['automobile',\n",
       " 'clothing',\n",
       " 'electronics',\n",
       " 'furniture',\n",
       " 'groceries',\n",
       " 'office supplies']"
      ]
     },
     "execution_count": 150,
     "metadata": {},
     "output_type": "execute_result"
    }
   ],
   "source": [
    "list(v2.revenue.keys())"
   ]
  },
  {
   "cell_type": "code",
   "execution_count": 154,
   "metadata": {
    "ExecuteTime": {
     "end_time": "2021-07-25T19:16:54.155090Z",
     "start_time": "2021-07-25T19:16:54.142763Z"
    }
   },
   "outputs": [
    {
     "data": {
      "text/html": [
       "<div>\n",
       "<style scoped>\n",
       "    .dataframe tbody tr th:only-of-type {\n",
       "        vertical-align: middle;\n",
       "    }\n",
       "\n",
       "    .dataframe tbody tr th {\n",
       "        vertical-align: top;\n",
       "    }\n",
       "\n",
       "    .dataframe thead th {\n",
       "        text-align: right;\n",
       "    }\n",
       "</style>\n",
       "<table border=\"1\" class=\"dataframe\">\n",
       "  <thead>\n",
       "    <tr style=\"text-align: right;\">\n",
       "      <th></th>\n",
       "      <th>index</th>\n",
       "      <th>0</th>\n",
       "    </tr>\n",
       "  </thead>\n",
       "  <tbody>\n",
       "    <tr>\n",
       "      <th>0</th>\n",
       "      <td>automobile</td>\n",
       "      <td>-1.591146</td>\n",
       "    </tr>\n",
       "    <tr>\n",
       "      <th>1</th>\n",
       "      <td>clothing</td>\n",
       "      <td>66.877961</td>\n",
       "    </tr>\n",
       "    <tr>\n",
       "      <th>2</th>\n",
       "      <td>electronics</td>\n",
       "      <td>-1.736664</td>\n",
       "    </tr>\n",
       "    <tr>\n",
       "      <th>3</th>\n",
       "      <td>furniture</td>\n",
       "      <td>1.421339</td>\n",
       "    </tr>\n",
       "    <tr>\n",
       "      <th>4</th>\n",
       "      <td>groceries</td>\n",
       "      <td>-2.455734</td>\n",
       "    </tr>\n",
       "    <tr>\n",
       "      <th>5</th>\n",
       "      <td>office supplies</td>\n",
       "      <td>0.835881</td>\n",
       "    </tr>\n",
       "  </tbody>\n",
       "</table>\n",
       "</div>"
      ],
      "text/plain": [
       "             index          0\n",
       "0       automobile  -1.591146\n",
       "1         clothing  66.877961\n",
       "2      electronics  -1.736664\n",
       "3        furniture   1.421339\n",
       "4        groceries  -2.455734\n",
       "5  office supplies   0.835881"
      ]
     },
     "execution_count": 154,
     "metadata": {},
     "output_type": "execute_result"
    }
   ],
   "source": [
    "pd.DataFrame(list(((v1.revenue.values-v2.revenue.values)/v2.revenue.values)*100),list(v2.revenue.keys())).reset_index()"
   ]
  },
  {
   "cell_type": "code",
   "execution_count": 69,
   "metadata": {
    "ExecuteTime": {
     "end_time": "2021-07-25T18:16:46.656329Z",
     "start_time": "2021-07-25T18:16:46.653833Z"
    }
   },
   "outputs": [],
   "source": [
    "#df.to_csv('farmers_dogs.csv',index=False)"
   ]
  },
  {
   "cell_type": "code",
   "execution_count": 90,
   "metadata": {
    "ExecuteTime": {
     "end_time": "2021-07-25T18:26:34.290158Z",
     "start_time": "2021-07-25T18:26:34.280464Z"
    }
   },
   "outputs": [],
   "source": [
    "product= pd.melt(df.groupby(['product_group','year']).median().T)"
   ]
  },
  {
   "cell_type": "code",
   "execution_count": 102,
   "metadata": {
    "ExecuteTime": {
     "end_time": "2021-07-25T18:30:06.545411Z",
     "start_time": "2021-07-25T18:30:06.539999Z"
    }
   },
   "outputs": [],
   "source": [
    "years=product.loc[product['year'].isin([2013,2014])].reset_index(drop=True)"
   ]
  },
  {
   "cell_type": "code",
   "execution_count": 103,
   "metadata": {
    "ExecuteTime": {
     "end_time": "2021-07-25T18:30:07.068445Z",
     "start_time": "2021-07-25T18:30:07.058150Z"
    }
   },
   "outputs": [
    {
     "data": {
      "text/html": [
       "<div>\n",
       "<style scoped>\n",
       "    .dataframe tbody tr th:only-of-type {\n",
       "        vertical-align: middle;\n",
       "    }\n",
       "\n",
       "    .dataframe tbody tr th {\n",
       "        vertical-align: top;\n",
       "    }\n",
       "\n",
       "    .dataframe thead th {\n",
       "        text-align: right;\n",
       "    }\n",
       "</style>\n",
       "<table border=\"1\" class=\"dataframe\">\n",
       "  <thead>\n",
       "    <tr style=\"text-align: right;\">\n",
       "      <th></th>\n",
       "      <th>product_group</th>\n",
       "      <th>year</th>\n",
       "      <th>value</th>\n",
       "    </tr>\n",
       "  </thead>\n",
       "  <tbody>\n",
       "    <tr>\n",
       "      <th>0</th>\n",
       "      <td>automobile</td>\n",
       "      <td>2013</td>\n",
       "      <td>197911.020443</td>\n",
       "    </tr>\n",
       "    <tr>\n",
       "      <th>1</th>\n",
       "      <td>automobile</td>\n",
       "      <td>2014</td>\n",
       "      <td>197352.522728</td>\n",
       "    </tr>\n",
       "    <tr>\n",
       "      <th>2</th>\n",
       "      <td>clothing</td>\n",
       "      <td>2013</td>\n",
       "      <td>2054.263074</td>\n",
       "    </tr>\n",
       "    <tr>\n",
       "      <th>3</th>\n",
       "      <td>clothing</td>\n",
       "      <td>2014</td>\n",
       "      <td>1634.452568</td>\n",
       "    </tr>\n",
       "    <tr>\n",
       "      <th>4</th>\n",
       "      <td>electronics</td>\n",
       "      <td>2013</td>\n",
       "      <td>20077.937997</td>\n",
       "    </tr>\n",
       "    <tr>\n",
       "      <th>5</th>\n",
       "      <td>electronics</td>\n",
       "      <td>2014</td>\n",
       "      <td>19630.570362</td>\n",
       "    </tr>\n",
       "    <tr>\n",
       "      <th>6</th>\n",
       "      <td>furniture</td>\n",
       "      <td>2013</td>\n",
       "      <td>20037.202212</td>\n",
       "    </tr>\n",
       "    <tr>\n",
       "      <th>7</th>\n",
       "      <td>furniture</td>\n",
       "      <td>2014</td>\n",
       "      <td>20284.127373</td>\n",
       "    </tr>\n",
       "    <tr>\n",
       "      <th>8</th>\n",
       "      <td>groceries</td>\n",
       "      <td>2013</td>\n",
       "      <td>210322.103338</td>\n",
       "    </tr>\n",
       "    <tr>\n",
       "      <th>9</th>\n",
       "      <td>groceries</td>\n",
       "      <td>2014</td>\n",
       "      <td>200447.650995</td>\n",
       "    </tr>\n",
       "    <tr>\n",
       "      <th>10</th>\n",
       "      <td>office supplies</td>\n",
       "      <td>2013</td>\n",
       "      <td>201385.951152</td>\n",
       "    </tr>\n",
       "    <tr>\n",
       "      <th>11</th>\n",
       "      <td>office supplies</td>\n",
       "      <td>2014</td>\n",
       "      <td>199425.839641</td>\n",
       "    </tr>\n",
       "  </tbody>\n",
       "</table>\n",
       "</div>"
      ],
      "text/plain": [
       "      product_group  year          value\n",
       "0        automobile  2013  197911.020443\n",
       "1        automobile  2014  197352.522728\n",
       "2          clothing  2013    2054.263074\n",
       "3          clothing  2014    1634.452568\n",
       "4       electronics  2013   20077.937997\n",
       "5       electronics  2014   19630.570362\n",
       "6         furniture  2013   20037.202212\n",
       "7         furniture  2014   20284.127373\n",
       "8         groceries  2013  210322.103338\n",
       "9         groceries  2014  200447.650995\n",
       "10  office supplies  2013  201385.951152\n",
       "11  office supplies  2014  199425.839641"
      ]
     },
     "execution_count": 103,
     "metadata": {},
     "output_type": "execute_result"
    }
   ],
   "source": [
    "years"
   ]
  },
  {
   "cell_type": "code",
   "execution_count": 110,
   "metadata": {
    "ExecuteTime": {
     "end_time": "2021-07-25T18:35:45.136748Z",
     "start_time": "2021-07-25T18:35:45.129679Z"
    }
   },
   "outputs": [
    {
     "name": "stdout",
     "output_type": "stream",
     "text": [
      "automobile 0.28219636969024364\n",
      "clothing 20.43606347059136\n",
      "electronics 2.2281552766951123\n",
      "furniture -1.2323335274120215\n",
      "groceries 4.69491897738115\n",
      "office supplies 0.9733109484008082\n"
     ]
    }
   ],
   "source": [
    "for i in range(len(years.index)-1):\n",
    "    if i%2 !=0:\n",
    "        pass\n",
    "    else:\n",
    "        avg_dif= (((years.value[i]-years.value[i+1])/years.value[i])*100)\n",
    "        print(years.product_group[i], avg_dif)"
   ]
  },
  {
   "cell_type": "code",
   "execution_count": 113,
   "metadata": {
    "ExecuteTime": {
     "end_time": "2021-07-25T18:42:52.679251Z",
     "start_time": "2021-07-25T18:42:52.673053Z"
    }
   },
   "outputs": [
    {
     "name": "stdout",
     "output_type": "stream",
     "text": [
      "automobile -558.4977149070182\n",
      "clothing -419.81050556684\n",
      "electronics -447.36763493015314\n",
      "furniture 246.92516081839858\n",
      "groceries -9874.452343259996\n",
      "office supplies -1960.111511107476\n"
     ]
    }
   ],
   "source": [
    "for i in range(len(years.index)-1):\n",
    "    if i%2 !=0:\n",
    "        pass\n",
    "    else:\n",
    "        avg_dif= (years.value[i+1]-years.value[i])\n",
    "        print(years.product_group[i], avg_dif)"
   ]
  },
  {
   "cell_type": "code",
   "execution_count": 114,
   "metadata": {
    "ExecuteTime": {
     "end_time": "2021-07-25T18:59:25.027597Z",
     "start_time": "2021-07-25T18:59:24.979263Z"
    }
   },
   "outputs": [
    {
     "data": {
      "text/html": [
       "<div>\n",
       "<style scoped>\n",
       "    .dataframe tbody tr th:only-of-type {\n",
       "        vertical-align: middle;\n",
       "    }\n",
       "\n",
       "    .dataframe tbody tr th {\n",
       "        vertical-align: top;\n",
       "    }\n",
       "\n",
       "    .dataframe thead th {\n",
       "        text-align: right;\n",
       "    }\n",
       "</style>\n",
       "<table border=\"1\" class=\"dataframe\">\n",
       "  <thead>\n",
       "    <tr style=\"text-align: right;\">\n",
       "      <th></th>\n",
       "      <th>product_group</th>\n",
       "      <th>country</th>\n",
       "      <th>year</th>\n",
       "      <th>revenue</th>\n",
       "    </tr>\n",
       "  </thead>\n",
       "  <tbody>\n",
       "    <tr>\n",
       "      <th>0</th>\n",
       "      <td>automobile</td>\n",
       "      <td>BR</td>\n",
       "      <td>2012</td>\n",
       "      <td>206937.326525</td>\n",
       "    </tr>\n",
       "    <tr>\n",
       "      <th>1</th>\n",
       "      <td>automobile</td>\n",
       "      <td>BR</td>\n",
       "      <td>2013</td>\n",
       "      <td>199547.386832</td>\n",
       "    </tr>\n",
       "    <tr>\n",
       "      <th>2</th>\n",
       "      <td>automobile</td>\n",
       "      <td>BR</td>\n",
       "      <td>2014</td>\n",
       "      <td>192515.411446</td>\n",
       "    </tr>\n",
       "    <tr>\n",
       "      <th>3</th>\n",
       "      <td>automobile</td>\n",
       "      <td>CA</td>\n",
       "      <td>2012</td>\n",
       "      <td>197552.325143</td>\n",
       "    </tr>\n",
       "    <tr>\n",
       "      <th>4</th>\n",
       "      <td>automobile</td>\n",
       "      <td>CA</td>\n",
       "      <td>2013</td>\n",
       "      <td>197965.016752</td>\n",
       "    </tr>\n",
       "    <tr>\n",
       "      <th>...</th>\n",
       "      <td>...</td>\n",
       "      <td>...</td>\n",
       "      <td>...</td>\n",
       "      <td>...</td>\n",
       "    </tr>\n",
       "    <tr>\n",
       "      <th>175</th>\n",
       "      <td>office supplies</td>\n",
       "      <td>ZA</td>\n",
       "      <td>2013</td>\n",
       "      <td>208051.353956</td>\n",
       "    </tr>\n",
       "    <tr>\n",
       "      <th>176</th>\n",
       "      <td>office supplies</td>\n",
       "      <td>ZA</td>\n",
       "      <td>2014</td>\n",
       "      <td>214117.720539</td>\n",
       "    </tr>\n",
       "    <tr>\n",
       "      <th>177</th>\n",
       "      <td>office supplies</td>\n",
       "      <td>ZH</td>\n",
       "      <td>2012</td>\n",
       "      <td>189211.781700</td>\n",
       "    </tr>\n",
       "    <tr>\n",
       "      <th>178</th>\n",
       "      <td>office supplies</td>\n",
       "      <td>ZH</td>\n",
       "      <td>2013</td>\n",
       "      <td>191593.130571</td>\n",
       "    </tr>\n",
       "    <tr>\n",
       "      <th>179</th>\n",
       "      <td>office supplies</td>\n",
       "      <td>ZH</td>\n",
       "      <td>2014</td>\n",
       "      <td>199955.850031</td>\n",
       "    </tr>\n",
       "  </tbody>\n",
       "</table>\n",
       "<p>180 rows × 4 columns</p>\n",
       "</div>"
      ],
      "text/plain": [
       "       product_group country  year        revenue\n",
       "0         automobile      BR  2012  206937.326525\n",
       "1         automobile      BR  2013  199547.386832\n",
       "2         automobile      BR  2014  192515.411446\n",
       "3         automobile      CA  2012  197552.325143\n",
       "4         automobile      CA  2013  197965.016752\n",
       "..               ...     ...   ...            ...\n",
       "175  office supplies      ZA  2013  208051.353956\n",
       "176  office supplies      ZA  2014  214117.720539\n",
       "177  office supplies      ZH  2012  189211.781700\n",
       "178  office supplies      ZH  2013  191593.130571\n",
       "179  office supplies      ZH  2014  199955.850031\n",
       "\n",
       "[180 rows x 4 columns]"
      ]
     },
     "execution_count": 114,
     "metadata": {},
     "output_type": "execute_result"
    }
   ],
   "source": [
    "df"
   ]
  },
  {
   "cell_type": "code",
   "execution_count": null,
   "metadata": {},
   "outputs": [],
   "source": []
  }
 ],
 "metadata": {
  "kernelspec": {
   "display_name": "Python 3",
   "language": "python",
   "name": "python3"
  },
  "language_info": {
   "codemirror_mode": {
    "name": "ipython",
    "version": 3
   },
   "file_extension": ".py",
   "mimetype": "text/x-python",
   "name": "python",
   "nbconvert_exporter": "python",
   "pygments_lexer": "ipython3",
   "version": "3.8.3"
  }
 },
 "nbformat": 4,
 "nbformat_minor": 4
}
