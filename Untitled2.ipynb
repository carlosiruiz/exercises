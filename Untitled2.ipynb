{
 "cells": [
  {
   "cell_type": "code",
   "execution_count": 1,
   "metadata": {
    "ExecuteTime": {
     "end_time": "2021-06-29T16:41:52.750323Z",
     "start_time": "2021-06-29T16:41:52.554795Z"
    }
   },
   "outputs": [
    {
     "data": {
      "application/javascript": [
       "\n",
       "            setTimeout(function() {\n",
       "                var nbb_cell_id = 1;\n",
       "                var nbb_unformatted_code = \"%load_ext nb_black\";\n",
       "                var nbb_formatted_code = \"%load_ext nb_black\";\n",
       "                var nbb_cells = Jupyter.notebook.get_cells();\n",
       "                for (var i = 0; i < nbb_cells.length; ++i) {\n",
       "                    if (nbb_cells[i].input_prompt_number == nbb_cell_id) {\n",
       "                        if (nbb_cells[i].get_text() == nbb_unformatted_code) {\n",
       "                             nbb_cells[i].set_text(nbb_formatted_code);\n",
       "                        }\n",
       "                        break;\n",
       "                    }\n",
       "                }\n",
       "            }, 500);\n",
       "            "
      ],
      "text/plain": [
       "<IPython.core.display.Javascript object>"
      ]
     },
     "metadata": {},
     "output_type": "display_data"
    }
   ],
   "source": [
    "%load_ext nb_black"
   ]
  },
  {
   "cell_type": "code",
   "execution_count": 2,
   "metadata": {
    "ExecuteTime": {
     "end_time": "2021-06-29T16:41:52.762108Z",
     "start_time": "2021-06-29T16:41:52.752902Z"
    }
   },
   "outputs": [
    {
     "data": {
      "text/plain": [
       "['a', 'a', 1, 2, 3]"
      ]
     },
     "execution_count": 2,
     "metadata": {},
     "output_type": "execute_result"
    },
    {
     "data": {
      "application/javascript": [
       "\n",
       "            setTimeout(function() {\n",
       "                var nbb_cell_id = 2;\n",
       "                var nbb_unformatted_code = \"x = [\\\"a\\\", \\\"a\\\", 1, 2, 3]\\nx\";\n",
       "                var nbb_formatted_code = \"x = [\\\"a\\\", \\\"a\\\", 1, 2, 3]\\nx\";\n",
       "                var nbb_cells = Jupyter.notebook.get_cells();\n",
       "                for (var i = 0; i < nbb_cells.length; ++i) {\n",
       "                    if (nbb_cells[i].input_prompt_number == nbb_cell_id) {\n",
       "                        if (nbb_cells[i].get_text() == nbb_unformatted_code) {\n",
       "                             nbb_cells[i].set_text(nbb_formatted_code);\n",
       "                        }\n",
       "                        break;\n",
       "                    }\n",
       "                }\n",
       "            }, 500);\n",
       "            "
      ],
      "text/plain": [
       "<IPython.core.display.Javascript object>"
      ]
     },
     "metadata": {},
     "output_type": "display_data"
    }
   ],
   "source": [
    "x = [\"a\", \"a\", 1, 2, 3]\n",
    "x"
   ]
  },
  {
   "cell_type": "code",
   "execution_count": 3,
   "metadata": {
    "ExecuteTime": {
     "end_time": "2021-06-29T16:41:52.793799Z",
     "start_time": "2021-06-29T16:41:52.764734Z"
    }
   },
   "outputs": [
    {
     "data": {
      "application/javascript": [
       "\n",
       "            setTimeout(function() {\n",
       "                var nbb_cell_id = 3;\n",
       "                var nbb_unformatted_code = \"def percentage_col(df, column=\\\"support\\\", string=False, inplace=True, single_col=\\\"none\\\"):\\n    \\\"\\\"\\\"\\n    If the column is based on its support value it will calculate the percentage per value. This will also turn\\n    the column from binary to Yes or No. If other column is provided, it will return the percentage per group of\\n    that column.\\n    \\\"\\\"\\\"\\n\\n    if single_col == \\\"none\\\":\\n        items = list(set(df[column]))\\n        ap = []\\n        str_sup = []\\n        for item in items:\\n\\n            tot = df[df[column] == item].value.sum()\\n            for i in df[df[column] == item].index:\\n                ap.append([i, round((df[df[column] == item].value[i] * 100) / tot, 2)])\\n\\n    else:\\n        ap = [round((i * 100) / sum(df[single_col]), 2) for i in df[single_col]]\\n        df[single_col] = ap\\n        return\\n\\n    if string == True:\\n        str_sup = [\\\"Yes\\\" if i == 1 else \\\"No\\\" for i in df.support]\\n    if inplace == False:\\n        return (ap, str_sup)\\n    else:\\n        df.value = [i[1] for i in sorted(ap)]\\n        df.support = str_sup\";\n",
       "                var nbb_formatted_code = \"def percentage_col(df, column=\\\"support\\\", string=False, inplace=True, single_col=\\\"none\\\"):\\n    \\\"\\\"\\\"\\n    If the column is based on its support value it will calculate the percentage per value. This will also turn\\n    the column from binary to Yes or No. If other column is provided, it will return the percentage per group of\\n    that column.\\n    \\\"\\\"\\\"\\n\\n    if single_col == \\\"none\\\":\\n        items = list(set(df[column]))\\n        ap = []\\n        str_sup = []\\n        for item in items:\\n\\n            tot = df[df[column] == item].value.sum()\\n            for i in df[df[column] == item].index:\\n                ap.append([i, round((df[df[column] == item].value[i] * 100) / tot, 2)])\\n\\n    else:\\n        ap = [round((i * 100) / sum(df[single_col]), 2) for i in df[single_col]]\\n        df[single_col] = ap\\n        return\\n\\n    if string == True:\\n        str_sup = [\\\"Yes\\\" if i == 1 else \\\"No\\\" for i in df.support]\\n    if inplace == False:\\n        return (ap, str_sup)\\n    else:\\n        df.value = [i[1] for i in sorted(ap)]\\n        df.support = str_sup\";\n",
       "                var nbb_cells = Jupyter.notebook.get_cells();\n",
       "                for (var i = 0; i < nbb_cells.length; ++i) {\n",
       "                    if (nbb_cells[i].input_prompt_number == nbb_cell_id) {\n",
       "                        if (nbb_cells[i].get_text() == nbb_unformatted_code) {\n",
       "                             nbb_cells[i].set_text(nbb_formatted_code);\n",
       "                        }\n",
       "                        break;\n",
       "                    }\n",
       "                }\n",
       "            }, 500);\n",
       "            "
      ],
      "text/plain": [
       "<IPython.core.display.Javascript object>"
      ]
     },
     "metadata": {},
     "output_type": "display_data"
    }
   ],
   "source": [
    "def percentage_col(df, column=\"support\", string=False, inplace=True, single_col=\"none\"):\n",
    "    \"\"\"\n",
    "    If the column is based on its support value it will calculate the percentage per value. This will also turn\n",
    "    the column from binary to Yes or No. If other column is provided, it will return the percentage per group of\n",
    "    that column.\n",
    "    \"\"\"\n",
    "\n",
    "    if single_col == \"none\":\n",
    "        items = list(set(df[column]))\n",
    "        ap = []\n",
    "        str_sup = []\n",
    "        for item in items:\n",
    "\n",
    "            tot = df[df[column] == item].value.sum()\n",
    "            for i in df[df[column] == item].index:\n",
    "                ap.append([i, round((df[df[column] == item].value[i] * 100) / tot, 2)])\n",
    "\n",
    "    else:\n",
    "        ap = [round((i * 100) / sum(df[single_col]), 2) for i in df[single_col]]\n",
    "        df[single_col] = ap\n",
    "        return\n",
    "\n",
    "    if string == True:\n",
    "        str_sup = [\"Yes\" if i == 1 else \"No\" for i in df.support]\n",
    "    if inplace == False:\n",
    "        return (ap, str_sup)\n",
    "    else:\n",
    "        df.value = [i[1] for i in sorted(ap)]\n",
    "        df.support = str_sup"
   ]
  },
  {
   "cell_type": "code",
   "execution_count": null,
   "metadata": {},
   "outputs": [],
   "source": []
  },
  {
   "cell_type": "code",
   "execution_count": null,
   "metadata": {},
   "outputs": [],
   "source": []
  },
  {
   "cell_type": "code",
   "execution_count": null,
   "metadata": {},
   "outputs": [],
   "source": []
  },
  {
   "cell_type": "code",
   "execution_count": null,
   "metadata": {},
   "outputs": [],
   "source": []
  },
  {
   "cell_type": "code",
   "execution_count": null,
   "metadata": {},
   "outputs": [],
   "source": []
  }
 ],
 "metadata": {
  "kernelspec": {
   "display_name": "Python 3",
   "language": "python",
   "name": "python3"
  },
  "language_info": {
   "codemirror_mode": {
    "name": "ipython",
    "version": 3
   },
   "file_extension": ".py",
   "mimetype": "text/x-python",
   "name": "python",
   "nbconvert_exporter": "python",
   "pygments_lexer": "ipython3",
   "version": "3.8.3"
  }
 },
 "nbformat": 4,
 "nbformat_minor": 4
}
