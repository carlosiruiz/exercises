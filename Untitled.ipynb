{
 "cells": [
  {
   "cell_type": "code",
   "execution_count": 1,
   "metadata": {
    "ExecuteTime": {
     "end_time": "2021-07-09T02:50:26.379358Z",
     "start_time": "2021-07-09T02:50:26.209412Z"
    }
   },
   "outputs": [
    {
     "data": {
      "application/javascript": [
       "\n",
       "            setTimeout(function() {\n",
       "                var nbb_cell_id = 1;\n",
       "                var nbb_unformatted_code = \"%load_ext nb_black\";\n",
       "                var nbb_formatted_code = \"%load_ext nb_black\";\n",
       "                var nbb_cells = Jupyter.notebook.get_cells();\n",
       "                for (var i = 0; i < nbb_cells.length; ++i) {\n",
       "                    if (nbb_cells[i].input_prompt_number == nbb_cell_id) {\n",
       "                        if (nbb_cells[i].get_text() == nbb_unformatted_code) {\n",
       "                             nbb_cells[i].set_text(nbb_formatted_code);\n",
       "                        }\n",
       "                        break;\n",
       "                    }\n",
       "                }\n",
       "            }, 500);\n",
       "            "
      ],
      "text/plain": [
       "<IPython.core.display.Javascript object>"
      ]
     },
     "metadata": {},
     "output_type": "display_data"
    }
   ],
   "source": [
    "%load_ext nb_black"
   ]
  },
  {
   "cell_type": "code",
   "execution_count": 2,
   "metadata": {
    "ExecuteTime": {
     "end_time": "2021-07-09T02:50:26.394023Z",
     "start_time": "2021-07-09T02:50:26.381530Z"
    }
   },
   "outputs": [
    {
     "name": "stdout",
     "output_type": "stream",
     "text": [
      "[2, 4, 6, 8, 10, 12, 14, 16, 18, 20]\n"
     ]
    },
    {
     "data": {
      "application/javascript": [
       "\n",
       "            setTimeout(function() {\n",
       "                var nbb_cell_id = 2;\n",
       "                var nbb_unformatted_code = \"nums = [1,2,3,4,5,6,7,8,9,10]\\nnums2 = []\\nfor i in nums:\\n    nums2.append(i * 2)\\nprint(nums2)\";\n",
       "                var nbb_formatted_code = \"nums = [1, 2, 3, 4, 5, 6, 7, 8, 9, 10]\\nnums2 = []\\nfor i in nums:\\n    nums2.append(i * 2)\\nprint(nums2)\";\n",
       "                var nbb_cells = Jupyter.notebook.get_cells();\n",
       "                for (var i = 0; i < nbb_cells.length; ++i) {\n",
       "                    if (nbb_cells[i].input_prompt_number == nbb_cell_id) {\n",
       "                        if (nbb_cells[i].get_text() == nbb_unformatted_code) {\n",
       "                             nbb_cells[i].set_text(nbb_formatted_code);\n",
       "                        }\n",
       "                        break;\n",
       "                    }\n",
       "                }\n",
       "            }, 500);\n",
       "            "
      ],
      "text/plain": [
       "<IPython.core.display.Javascript object>"
      ]
     },
     "metadata": {},
     "output_type": "display_data"
    }
   ],
   "source": [
    "nums = [1,2,3,4,5,6,7,8,9,10]\n",
    "nums2 = []\n",
    "for i in nums:\n",
    "    nums2.append(i * 2)\n",
    "print(nums2)\n"
   ]
  },
  {
   "cell_type": "code",
   "execution_count": 3,
   "metadata": {
    "ExecuteTime": {
     "end_time": "2021-07-09T02:50:26.405726Z",
     "start_time": "2021-07-09T02:50:26.397810Z"
    }
   },
   "outputs": [
    {
     "name": "stdout",
     "output_type": "stream",
     "text": [
      "[2, 4, 6, 8, 10, 12, 14, 16, 18, 20]\n"
     ]
    }
   ],
   "source": [
    "nums2=[i*2 for i in nums]\n",
    "print(nums2)"
   ]
  },
  {
   "cell_type": "code",
   "execution_count": 4,
   "metadata": {
    "ExecuteTime": {
     "end_time": "2021-07-09T02:50:26.416398Z",
     "start_time": "2021-07-09T02:50:26.410827Z"
    }
   },
   "outputs": [
    {
     "name": "stdout",
     "output_type": "stream",
     "text": [
      "['Odd', 'Even', 'Letter', 'Odd', 'Letter', 'Even', 'Letter', 'Odd', 'Even', 'Letter', 'Odd', 'Even', 'Odd', 'Letter', 'Even']\n"
     ]
    }
   ],
   "source": [
    "nums = [1,2,\"a\",3,\"r\",4,\"b\",5,6,\"w\",7,8,9,\"f\",10]\n",
    "nums= ['Letter' if type(i) == str else \"Even\" if i%2 == 0  else \"Odd\" for i in nums]\n",
    "print(nums)"
   ]
  },
  {
   "cell_type": "code",
   "execution_count": 5,
   "metadata": {
    "ExecuteTime": {
     "end_time": "2021-07-09T02:50:26.428088Z",
     "start_time": "2021-07-09T02:50:26.419382Z"
    }
   },
   "outputs": [
    {
     "name": "stdout",
     "output_type": "stream",
     "text": [
      "[2, 4, 5, 6, 8, 10]\n"
     ]
    }
   ],
   "source": [
    "nums = [1,2,3,4,5,6,7,8,9,10]\n",
    "nums= [i for i in nums if i%2 == 0 or  i%5==0 ]\n",
    "print(nums)"
   ]
  },
  {
   "cell_type": "code",
   "execution_count": 6,
   "metadata": {
    "ExecuteTime": {
     "end_time": "2021-07-09T02:50:26.437280Z",
     "start_time": "2021-07-09T02:50:26.431701Z"
    }
   },
   "outputs": [
    {
     "data": {
      "text/plain": [
       "[1, 2, 3, 4, 5, 6, 7, 8, 9, 10]"
      ]
     },
     "execution_count": 6,
     "metadata": {},
     "output_type": "execute_result"
    }
   ],
   "source": [
    "nums = [[1,2,3],[4,5,6],[7,8,9],[10]]\n",
    "nums = [i for l in nums for i in l]\n",
    "nums"
   ]
  },
  {
   "cell_type": "code",
   "execution_count": 7,
   "metadata": {
    "ExecuteTime": {
     "end_time": "2021-07-09T02:50:26.446264Z",
     "start_time": "2021-07-09T02:50:26.440630Z"
    }
   },
   "outputs": [
    {
     "name": "stdout",
     "output_type": "stream",
     "text": [
      "['small', 'small', 'small', 'small', 'Large', 'Large', 'Large', 'Large', 'Large', 'Large']\n"
     ]
    }
   ],
   "source": [
    "nums = [1,2,3,4,5,6,7,8,9,10]\n",
    "nums= [\"small\" if i<5 else \"Large\" if i>=5 else None for i in nums]\n",
    "print(nums)"
   ]
  },
  {
   "cell_type": "code",
   "execution_count": 8,
   "metadata": {
    "ExecuteTime": {
     "end_time": "2021-07-09T02:50:26.456928Z",
     "start_time": "2021-07-09T02:50:26.450776Z"
    }
   },
   "outputs": [
    {
     "name": "stdout",
     "output_type": "stream",
     "text": [
      "['small', 'small', 'small', 'small', 'Large', 'Large', 'Large', 'Large', 'Large', 'Large']\n"
     ]
    }
   ],
   "source": [
    "nums = [1,2,3,4,5,6,7,8,9,10]\n",
    "nums= [\"small\" if i<5 else \"Large\" if i>=5 else None for i in nums]\n",
    "print(nums)"
   ]
  },
  {
   "cell_type": "code",
   "execution_count": null,
   "metadata": {
    "ExecuteTime": {
     "start_time": "2021-07-09T02:50:26.218Z"
    }
   },
   "outputs": [],
   "source": [
    "def nats(n):\n",
    "    yield n\n",
    "    yield from nats(n + 1)"
   ]
  },
  {
   "cell_type": "code",
   "execution_count": null,
   "metadata": {
    "ExecuteTime": {
     "start_time": "2021-07-09T02:50:26.220Z"
    }
   },
   "outputs": [],
   "source": [
    "def sieve(s):\n",
    "    n = next(s)\n",
    "    yield n\n",
    "    yield from sieve(i for i in s if i % n != 0)"
   ]
  },
  {
   "cell_type": "code",
   "execution_count": null,
   "metadata": {
    "ExecuteTime": {
     "start_time": "2021-07-09T02:50:26.222Z"
    }
   },
   "outputs": [],
   "source": [
    "nat = sieve(nats(2))"
   ]
  },
  {
   "cell_type": "code",
   "execution_count": null,
   "metadata": {
    "ExecuteTime": {
     "start_time": "2021-07-09T02:50:26.223Z"
    }
   },
   "outputs": [],
   "source": [
    "next(nat)"
   ]
  },
  {
   "cell_type": "code",
   "execution_count": null,
   "metadata": {
    "ExecuteTime": {
     "start_time": "2021-07-09T02:50:26.225Z"
    }
   },
   "outputs": [],
   "source": [
    "next(nat)"
   ]
  },
  {
   "cell_type": "code",
   "execution_count": null,
   "metadata": {
    "ExecuteTime": {
     "start_time": "2021-07-09T02:50:26.226Z"
    },
    "scrolled": true
   },
   "outputs": [],
   "source": [
    "next(nat)"
   ]
  },
  {
   "cell_type": "code",
   "execution_count": null,
   "metadata": {
    "ExecuteTime": {
     "start_time": "2021-07-09T02:50:26.228Z"
    }
   },
   "outputs": [],
   "source": [
    "items = [1, 5, 6, 62, 3, 65, 7, \"where\", 6]"
   ]
  },
  {
   "cell_type": "code",
   "execution_count": null,
   "metadata": {
    "ExecuteTime": {
     "start_time": "2021-07-09T02:50:26.229Z"
    }
   },
   "outputs": [],
   "source": [
    "def raised_number_(items):\n",
    "    nums = []\n",
    "    for i in items:\n",
    "        try:\n",
    "            nums.append(i ** 2)\n",
    "        except:\n",
    "            pass\n",
    "    return nums"
   ]
  },
  {
   "cell_type": "code",
   "execution_count": null,
   "metadata": {
    "ExecuteTime": {
     "start_time": "2021-07-09T02:50:26.230Z"
    }
   },
   "outputs": [],
   "source": [
    "raised_number_(items)"
   ]
  },
  {
   "cell_type": "code",
   "execution_count": null,
   "metadata": {
    "ExecuteTime": {
     "start_time": "2021-07-09T02:50:26.232Z"
    }
   },
   "outputs": [],
   "source": [
    "import time"
   ]
  },
  {
   "cell_type": "code",
   "execution_count": null,
   "metadata": {
    "ExecuteTime": {
     "start_time": "2021-07-09T02:50:26.233Z"
    }
   },
   "outputs": [],
   "source": [
    "# while True:\n",
    "#     try:\n",
    "#         print(\"I'll go on forever!\")\n",
    "#         time.sleep(.1)\n",
    "#     except:\n",
    "#         print('I wont stop')"
   ]
  },
  {
   "cell_type": "code",
   "execution_count": null,
   "metadata": {
    "ExecuteTime": {
     "start_time": "2021-07-09T02:50:26.234Z"
    }
   },
   "outputs": [],
   "source": [
    "# while True:\n",
    "#     try:\n",
    "#         print(\"I'll go on forever!\")\n",
    "#         time.sleep(1)\n",
    "#     except Exception:\n",
    "#         print('I wont stop')\n"
   ]
  },
  {
   "cell_type": "code",
   "execution_count": null,
   "metadata": {
    "ExecuteTime": {
     "start_time": "2021-07-09T02:50:26.235Z"
    }
   },
   "outputs": [],
   "source": [
    "x = 1\n",
    "y = [2]\n",
    "\n",
    "(x,) = y\n",
    "\n",
    "print(x)"
   ]
  },
  {
   "cell_type": "code",
   "execution_count": null,
   "metadata": {},
   "outputs": [],
   "source": []
  },
  {
   "cell_type": "code",
   "execution_count": null,
   "metadata": {
    "ExecuteTime": {
     "start_time": "2021-07-09T02:50:26.237Z"
    }
   },
   "outputs": [],
   "source": [
    "def fibo(n):\n",
    "    if n <= 1:\n",
    "        return n\n",
    "    return fibo(n - 1) + fibo(n - 2)"
   ]
  },
  {
   "cell_type": "code",
   "execution_count": null,
   "metadata": {
    "ExecuteTime": {
     "start_time": "2021-07-09T02:50:26.240Z"
    }
   },
   "outputs": [],
   "source": [
    "for i in range(400):\n",
    "    print(i, fibo(i))\n",
    "print(\"done\")"
   ]
  },
  {
   "cell_type": "code",
   "execution_count": null,
   "metadata": {},
   "outputs": [],
   "source": []
  },
  {
   "cell_type": "code",
   "execution_count": null,
   "metadata": {
    "ExecuteTime": {
     "start_time": "2021-07-09T02:50:26.242Z"
    }
   },
   "outputs": [],
   "source": [
    "from functools import lru_cache"
   ]
  },
  {
   "cell_type": "code",
   "execution_count": null,
   "metadata": {
    "ExecuteTime": {
     "start_time": "2021-07-09T02:50:26.243Z"
    }
   },
   "outputs": [],
   "source": [
    "@lru_cache\n",
    "def fibo(n):\n",
    "    if n <= 1:\n",
    "        return n\n",
    "    return fibo(n - 1) + fibo(n - 2)"
   ]
  },
  {
   "cell_type": "code",
   "execution_count": null,
   "metadata": {
    "ExecuteTime": {
     "start_time": "2021-07-09T02:50:26.244Z"
    }
   },
   "outputs": [],
   "source": [
    "for i in range(400):\n",
    "    print(i, fibo(i))\n",
    "print(\"done\")"
   ]
  },
  {
   "cell_type": "code",
   "execution_count": null,
   "metadata": {
    "ExecuteTime": {
     "start_time": "2021-07-09T02:50:26.245Z"
    }
   },
   "outputs": [],
   "source": [
    "# list comprehension\n",
    "doubles = [2 * n for n in range(50)]"
   ]
  },
  {
   "cell_type": "code",
   "execution_count": null,
   "metadata": {
    "ExecuteTime": {
     "start_time": "2021-07-09T02:50:26.246Z"
    }
   },
   "outputs": [],
   "source": [
    "# same as the list comprehension above\n",
    "doubles = list(2 * n for n in range(50))"
   ]
  },
  {
   "cell_type": "code",
   "execution_count": null,
   "metadata": {
    "ExecuteTime": {
     "start_time": "2021-07-09T02:50:26.247Z"
    }
   },
   "outputs": [],
   "source": [
    "# using a generator\n",
    "sum_of_first_n = sum(range(1000000))"
   ]
  },
  {
   "cell_type": "code",
   "execution_count": null,
   "metadata": {
    "ExecuteTime": {
     "start_time": "2021-07-09T02:50:26.248Z"
    }
   },
   "outputs": [],
   "source": [
    "from collections import Counter"
   ]
  },
  {
   "cell_type": "code",
   "execution_count": null,
   "metadata": {
    "ExecuteTime": {
     "start_time": "2021-07-09T02:50:26.249Z"
    }
   },
   "outputs": [],
   "source": [
    "letters=[\"a\",\"a\",\"e\",'r',\"b\",\"x\",\"y\",\"w\",\"e\",\"x\",\"a\",\"r\",\"a\",\"e\"]"
   ]
  },
  {
   "cell_type": "code",
   "execution_count": null,
   "metadata": {
    "ExecuteTime": {
     "start_time": "2021-07-09T02:50:26.250Z"
    }
   },
   "outputs": [],
   "source": [
    "dict(Counter(letters))"
   ]
  },
  {
   "cell_type": "code",
   "execution_count": null,
   "metadata": {
    "ExecuteTime": {
     "start_time": "2021-07-09T02:50:26.251Z"
    }
   },
   "outputs": [],
   "source": [
    "t_string=\"Hello! I am a string that is gonna be tested on!\"\n",
    "a= Counter(t_string)"
   ]
  },
  {
   "cell_type": "code",
   "execution_count": null,
   "metadata": {
    "ExecuteTime": {
     "start_time": "2021-07-09T02:50:26.252Z"
    }
   },
   "outputs": [],
   "source": [
    "dict(a)"
   ]
  },
  {
   "cell_type": "code",
   "execution_count": null,
   "metadata": {
    "ExecuteTime": {
     "start_time": "2021-07-09T02:50:26.253Z"
    }
   },
   "outputs": [],
   "source": [
    "letters=[\"a\",\"a\",\"e\",'r',\"b\",\"x\",\"y\",\"w\",\"e\",\"x\",\"a\",\"r\",\"a\",\"e\"]\n",
    "print Counter(myList)\n",
    "Counter({2: 4, 3: 4, 1: 3, 4: 2, 5: 1})\n",
    "\n",
    "print Counter(myList).items()\n",
    "[(1, 3), (2, 4), (3, 4), (4,b 2), (5, 1)]\n",
    "\n",
    "print Counter(myList).keys()\n",
    "[1, 2, 3, 4, 5]\n",
    "\n",
    "print Counter(myList).values()\n",
    "[3, 4, 4, 2, 1]"
   ]
  },
  {
   "cell_type": "code",
   "execution_count": null,
   "metadata": {
    "ExecuteTime": {
     "start_time": "2021-07-09T02:50:26.254Z"
    }
   },
   "outputs": [],
   "source": [
    "print(Counter(letters).items())"
   ]
  },
  {
   "cell_type": "code",
   "execution_count": null,
   "metadata": {
    "ExecuteTime": {
     "start_time": "2021-07-09T02:50:26.255Z"
    }
   },
   "outputs": [],
   "source": [
    "print(Counter(letters).keys())"
   ]
  },
  {
   "cell_type": "code",
   "execution_count": null,
   "metadata": {
    "ExecuteTime": {
     "start_time": "2021-07-09T02:50:26.256Z"
    }
   },
   "outputs": [],
   "source": [
    "print(Counter(letters).values())"
   ]
  },
  {
   "cell_type": "code",
   "execution_count": null,
   "metadata": {},
   "outputs": [],
   "source": []
  }
 ],
 "metadata": {
  "kernelspec": {
   "display_name": "Python 3",
   "language": "python",
   "name": "python3"
  },
  "language_info": {
   "codemirror_mode": {
    "name": "ipython",
    "version": 3
   },
   "file_extension": ".py",
   "mimetype": "text/x-python",
   "name": "python",
   "nbconvert_exporter": "python",
   "pygments_lexer": "ipython3",
   "version": "3.8.3"
  }
 },
 "nbformat": 4,
 "nbformat_minor": 4
}
