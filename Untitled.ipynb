{
 "cells": [
  {
   "cell_type": "code",
   "execution_count": 1,
   "metadata": {
    "ExecuteTime": {
     "end_time": "2021-05-19T17:54:29.160506Z",
     "start_time": "2021-05-19T17:54:29.156950Z"
    }
   },
   "outputs": [],
   "source": [
    "nums = [1,2,3,4,5,6,7,8,9,10]\n",
    "nums2 = []\n",
    "for i in nums:\n",
    "    nums2.append(i * 2)\n",
    "print(nums2)\n"
   ]
  },
  {
   "cell_type": "code",
   "execution_count": 2,
   "metadata": {
    "ExecuteTime": {
     "end_time": "2021-05-19T17:54:29.167118Z",
     "start_time": "2021-05-19T17:54:29.162756Z"
    }
   },
   "outputs": [],
   "source": [
    "nums2=[i*2 for i in nums]\n",
    "print(nums2)"
   ]
  },
  {
   "cell_type": "code",
   "execution_count": 3,
   "metadata": {
    "ExecuteTime": {
     "end_time": "2021-05-19T17:54:29.173088Z",
     "start_time": "2021-05-19T17:54:29.169148Z"
    }
   },
   "outputs": [],
   "source": [
    "nums = [1,2,\"a\",3,\"r\",4,\"b\",5,6,\"w\",7,8,9,\"f\",10]\n",
    "nums= [\"Letter\" if type(i) == str else \"Even\" if i%2 == 0  else \"Odd\" for i in nums]\n",
    "print(nums)"
   ]
  },
  {
   "cell_type": "code",
   "execution_count": 4,
   "metadata": {
    "ExecuteTime": {
     "end_time": "2021-05-19T17:54:29.178484Z",
     "start_time": "2021-05-19T17:54:29.175161Z"
    }
   },
   "outputs": [],
   "source": [
    "nums = [1,2,3,4,5,6,7,8,9,10]\n",
    "nums= [i for i in nums if i%2 == 0 or  i%5==0 ]\n",
    "print(nums)"
   ]
  },
  {
   "cell_type": "code",
   "execution_count": 5,
   "metadata": {
    "ExecuteTime": {
     "end_time": "2021-05-19T17:54:29.189373Z",
     "start_time": "2021-05-19T17:54:29.180052Z"
    }
   },
   "outputs": [],
   "source": [
    "nums = [[1,2,3],[4,5,6],[7,8,9],[10]]\n",
    "nums = [i for l in nums for i in l]\n",
    "nums"
   ]
  },
  {
   "cell_type": "code",
   "execution_count": 6,
   "metadata": {
    "ExecuteTime": {
     "end_time": "2021-05-19T17:54:29.195861Z",
     "start_time": "2021-05-19T17:54:29.192003Z"
    }
   },
   "outputs": [],
   "source": [
    "nums = [1,2,3,4,5,6,7,8,9,10]\n",
    "nums= [\"small\" if i<5 else \"Large\" if i>=5 else None for i in nums]\n",
    "print(nums)"
   ]
  },
  {
   "cell_type": "code",
   "execution_count": 7,
   "metadata": {
    "ExecuteTime": {
     "end_time": "2021-05-19T17:54:29.201351Z",
     "start_time": "2021-05-19T17:54:29.197821Z"
    }
   },
   "outputs": [],
   "source": [
    "nums = [1,2,3,4,5,6,7,8,9,10]\n",
    "nums= [\"small\" if i<5 else \"Large\" if i>=5 else None for i in nums]\n",
    "print(nums)"
   ]
  },
  {
   "cell_type": "code",
   "execution_count": 8,
   "metadata": {
    "ExecuteTime": {
     "end_time": "2021-05-19T17:54:29.205413Z",
     "start_time": "2021-05-19T17:54:29.203104Z"
    }
   },
   "outputs": [],
   "source": [
    "def nats(n):\n",
    "    yield n \n",
    "    yield from nats(n+1)"
   ]
  },
  {
   "cell_type": "code",
   "execution_count": 9,
   "metadata": {
    "ExecuteTime": {
     "end_time": "2021-05-19T17:54:29.209877Z",
     "start_time": "2021-05-19T17:54:29.206937Z"
    }
   },
   "outputs": [],
   "source": [
    "def sieve(s):\n",
    "    n = next(s)\n",
    "    yield n \n",
    "    yield from sieve (i for i in s if i%n != 0)"
   ]
  },
  {
   "cell_type": "code",
   "execution_count": 10,
   "metadata": {
    "ExecuteTime": {
     "end_time": "2021-05-19T17:54:29.213929Z",
     "start_time": "2021-05-19T17:54:29.211386Z"
    }
   },
   "outputs": [],
   "source": [
    "nat = sieve(nats(2))"
   ]
  },
  {
   "cell_type": "code",
   "execution_count": 11,
   "metadata": {
    "ExecuteTime": {
     "end_time": "2021-05-19T17:54:29.218543Z",
     "start_time": "2021-05-19T17:54:29.215526Z"
    }
   },
   "outputs": [],
   "source": [
    "next(nat)"
   ]
  },
  {
   "cell_type": "code",
   "execution_count": 12,
   "metadata": {
    "ExecuteTime": {
     "end_time": "2021-05-19T17:54:29.223137Z",
     "start_time": "2021-05-19T17:54:29.220031Z"
    }
   },
   "outputs": [],
   "source": [
    "next(nat)"
   ]
  },
  {
   "cell_type": "code",
   "execution_count": 13,
   "metadata": {
    "ExecuteTime": {
     "end_time": "2021-05-19T17:54:29.229296Z",
     "start_time": "2021-05-19T17:54:29.225046Z"
    },
    "scrolled": true
   },
   "outputs": [],
   "source": [
    "next(nat)"
   ]
  },
  {
   "cell_type": "code",
   "execution_count": 14,
   "metadata": {
    "ExecuteTime": {
     "end_time": "2021-05-19T17:54:29.234675Z",
     "start_time": "2021-05-19T17:54:29.231641Z"
    }
   },
   "outputs": [],
   "source": [
    "items=[1,5,6,62, 3, 65 ,7 ,\"where\",6]"
   ]
  },
  {
   "cell_type": "code",
   "execution_count": null,
   "metadata": {},
   "outputs": [],
   "source": []
  },
  {
   "cell_type": "code",
   "execution_count": 15,
   "metadata": {
    "ExecuteTime": {
     "end_time": "2021-05-19T17:54:29.240022Z",
     "start_time": "2021-05-19T17:54:29.236820Z"
    }
   },
   "outputs": [],
   "source": [
    "def raised_number(items):\n",
    "    nums=[]\n",
    "    for i in items:\n",
    "        try: \n",
    "            nums.append(i**2)\n",
    "        except:\n",
    "            pass\n",
    "    return nums"
   ]
  },
  {
   "cell_type": "code",
   "execution_count": 16,
   "metadata": {
    "ExecuteTime": {
     "end_time": "2021-05-19T17:54:29.246588Z",
     "start_time": "2021-05-19T17:54:29.242753Z"
    }
   },
   "outputs": [],
   "source": [
    "raised_number(items)"
   ]
  },
  {
   "cell_type": "code",
   "execution_count": 17,
   "metadata": {
    "ExecuteTime": {
     "end_time": "2021-05-19T17:54:29.251671Z",
     "start_time": "2021-05-19T17:54:29.248650Z"
    }
   },
   "outputs": [],
   "source": [
    "import time "
   ]
  },
  {
   "cell_type": "code",
   "execution_count": 18,
   "metadata": {
    "ExecuteTime": {
     "end_time": "2021-05-19T17:54:29.255544Z",
     "start_time": "2021-05-19T17:54:29.253673Z"
    }
   },
   "outputs": [],
   "source": [
    "# while True:\n",
    "#     try:\n",
    "#         print(\"I'll go on forever!\")\n",
    "#         time.sleep(.01)\n",
    "#     except:\n",
    "#         print('I wont stop')"
   ]
  },
  {
   "cell_type": "code",
   "execution_count": 22,
   "metadata": {
    "ExecuteTime": {
     "end_time": "2021-05-19T17:56:02.586584Z",
     "start_time": "2021-05-19T17:55:58.520734Z"
    }
   },
   "outputs": [
    {
     "name": "stdout",
     "output_type": "stream",
     "text": [
      "I'll go on forever!\n",
      "I'll go on forever!\n",
      "I'll go on forever!\n",
      "I'll go on forever!\n",
      "I'll go on forever!\n",
      "I'll go on forever!\n",
      "I'll go on forever!\n",
      "I'll go on forever!\n",
      "I'll go on forever!\n",
      "I'll go on forever!\n",
      "I'll go on forever!\n",
      "I'll go on forever!\n",
      "I'll go on forever!\n",
      "I'll go on forever!\n",
      "I'll go on forever!\n",
      "I'll go on forever!\n",
      "I'll go on forever!\n",
      "I'll go on forever!\n",
      "I'll go on forever!\n",
      "I'll go on forever!\n",
      "I'll go on forever!\n",
      "I'll go on forever!\n",
      "I'll go on forever!\n",
      "I'll go on forever!\n",
      "I'll go on forever!\n",
      "I'll go on forever!\n",
      "I'll go on forever!\n",
      "I'll go on forever!\n",
      "I'll go on forever!\n",
      "I'll go on forever!\n",
      "I'll go on forever!\n",
      "I'll go on forever!\n",
      "I'll go on forever!\n",
      "I'll go on forever!\n",
      "I'll go on forever!\n",
      "I'll go on forever!\n",
      "I'll go on forever!\n",
      "I'll go on forever!\n",
      "I'll go on forever!\n",
      "I'll go on forever!\n"
     ]
    },
    {
     "ename": "KeyboardInterrupt",
     "evalue": "",
     "output_type": "error",
     "traceback": [
      "\u001b[0;31m---------------------------------------------------------------------------\u001b[0m",
      "\u001b[0;31mKeyboardInterrupt\u001b[0m                         Traceback (most recent call last)",
      "\u001b[0;32m<ipython-input-22-a9b7f981e735>\u001b[0m in \u001b[0;36m<module>\u001b[0;34m\u001b[0m\n\u001b[1;32m      2\u001b[0m     \u001b[0;32mtry\u001b[0m\u001b[0;34m:\u001b[0m\u001b[0;34m\u001b[0m\u001b[0;34m\u001b[0m\u001b[0m\n\u001b[1;32m      3\u001b[0m         \u001b[0mprint\u001b[0m\u001b[0;34m(\u001b[0m\u001b[0;34m\"I'll go on forever!\"\u001b[0m\u001b[0;34m)\u001b[0m\u001b[0;34m\u001b[0m\u001b[0;34m\u001b[0m\u001b[0m\n\u001b[0;32m----> 4\u001b[0;31m         \u001b[0mtime\u001b[0m\u001b[0;34m.\u001b[0m\u001b[0msleep\u001b[0m\u001b[0;34m(\u001b[0m\u001b[0;36m.1\u001b[0m\u001b[0;34m)\u001b[0m\u001b[0;34m\u001b[0m\u001b[0;34m\u001b[0m\u001b[0m\n\u001b[0m\u001b[1;32m      5\u001b[0m     \u001b[0;32mexcept\u001b[0m \u001b[0mException\u001b[0m\u001b[0;34m:\u001b[0m\u001b[0;34m\u001b[0m\u001b[0;34m\u001b[0m\u001b[0m\n\u001b[1;32m      6\u001b[0m         \u001b[0mprint\u001b[0m\u001b[0;34m(\u001b[0m\u001b[0;34m'I wont stop'\u001b[0m\u001b[0;34m)\u001b[0m\u001b[0;34m\u001b[0m\u001b[0;34m\u001b[0m\u001b[0m\n",
      "\u001b[0;31mKeyboardInterrupt\u001b[0m: "
     ]
    }
   ],
   "source": [
    "while True:\n",
    "    try:\n",
    "        print(\"I'll go on forever!\")\n",
    "        time.sleep(.1)\n",
    "    except Exception:\n",
    "        print('I wont stop')"
   ]
  },
  {
   "cell_type": "code",
   "execution_count": null,
   "metadata": {},
   "outputs": [],
   "source": []
  }
 ],
 "metadata": {
  "kernelspec": {
   "display_name": "Python 3",
   "language": "python",
   "name": "python3"
  },
  "language_info": {
   "codemirror_mode": {
    "name": "ipython",
    "version": 3
   },
   "file_extension": ".py",
   "mimetype": "text/x-python",
   "name": "python",
   "nbconvert_exporter": "python",
   "pygments_lexer": "ipython3",
   "version": "3.8.3"
  }
 },
 "nbformat": 4,
 "nbformat_minor": 4
}
