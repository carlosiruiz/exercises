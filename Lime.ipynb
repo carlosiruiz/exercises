{
 "cells": [
  {
   "cell_type": "code",
   "execution_count": 1,
   "metadata": {
    "ExecuteTime": {
     "end_time": "2021-04-11T16:38:07.475443Z",
     "start_time": "2021-04-11T16:38:05.770080Z"
    }
   },
   "outputs": [],
   "source": [
    "#Loading Libraries\n",
    "import pandas as pd\n",
    "import numpy as np\n",
    "from sklearn import metrics\n",
    "from sklearn.model_selection import train_test_split\n",
    "from sklearn.linear_model import LogisticRegression"
   ]
  },
  {
   "cell_type": "code",
   "execution_count": 2,
   "metadata": {
    "ExecuteTime": {
     "end_time": "2021-04-11T16:38:07.498167Z",
     "start_time": "2021-04-11T16:38:07.477430Z"
    }
   },
   "outputs": [
    {
     "data": {
      "text/html": [
       "<div>\n",
       "<style scoped>\n",
       "    .dataframe tbody tr th:only-of-type {\n",
       "        vertical-align: middle;\n",
       "    }\n",
       "\n",
       "    .dataframe tbody tr th {\n",
       "        vertical-align: top;\n",
       "    }\n",
       "\n",
       "    .dataframe thead th {\n",
       "        text-align: right;\n",
       "    }\n",
       "</style>\n",
       "<table border=\"1\" class=\"dataframe\">\n",
       "  <thead>\n",
       "    <tr style=\"text-align: right;\">\n",
       "      <th></th>\n",
       "      <th>PassengerId</th>\n",
       "      <th>Survived</th>\n",
       "      <th>Pclass</th>\n",
       "      <th>Age</th>\n",
       "      <th>SibSp</th>\n",
       "      <th>Parch</th>\n",
       "      <th>Fare</th>\n",
       "      <th>youngin</th>\n",
       "      <th>male</th>\n",
       "      <th>Q</th>\n",
       "      <th>S</th>\n",
       "    </tr>\n",
       "  </thead>\n",
       "  <tbody>\n",
       "    <tr>\n",
       "      <th>0</th>\n",
       "      <td>1</td>\n",
       "      <td>0</td>\n",
       "      <td>3</td>\n",
       "      <td>22.0</td>\n",
       "      <td>1</td>\n",
       "      <td>0</td>\n",
       "      <td>7.2500</td>\n",
       "      <td>False</td>\n",
       "      <td>1</td>\n",
       "      <td>0</td>\n",
       "      <td>1</td>\n",
       "    </tr>\n",
       "    <tr>\n",
       "      <th>1</th>\n",
       "      <td>2</td>\n",
       "      <td>1</td>\n",
       "      <td>1</td>\n",
       "      <td>38.0</td>\n",
       "      <td>1</td>\n",
       "      <td>0</td>\n",
       "      <td>71.2833</td>\n",
       "      <td>False</td>\n",
       "      <td>0</td>\n",
       "      <td>0</td>\n",
       "      <td>0</td>\n",
       "    </tr>\n",
       "    <tr>\n",
       "      <th>2</th>\n",
       "      <td>3</td>\n",
       "      <td>1</td>\n",
       "      <td>3</td>\n",
       "      <td>26.0</td>\n",
       "      <td>0</td>\n",
       "      <td>0</td>\n",
       "      <td>7.9250</td>\n",
       "      <td>False</td>\n",
       "      <td>0</td>\n",
       "      <td>0</td>\n",
       "      <td>1</td>\n",
       "    </tr>\n",
       "    <tr>\n",
       "      <th>3</th>\n",
       "      <td>4</td>\n",
       "      <td>1</td>\n",
       "      <td>1</td>\n",
       "      <td>35.0</td>\n",
       "      <td>1</td>\n",
       "      <td>0</td>\n",
       "      <td>53.1000</td>\n",
       "      <td>False</td>\n",
       "      <td>0</td>\n",
       "      <td>0</td>\n",
       "      <td>1</td>\n",
       "    </tr>\n",
       "    <tr>\n",
       "      <th>4</th>\n",
       "      <td>5</td>\n",
       "      <td>0</td>\n",
       "      <td>3</td>\n",
       "      <td>35.0</td>\n",
       "      <td>0</td>\n",
       "      <td>0</td>\n",
       "      <td>8.0500</td>\n",
       "      <td>False</td>\n",
       "      <td>1</td>\n",
       "      <td>0</td>\n",
       "      <td>1</td>\n",
       "    </tr>\n",
       "  </tbody>\n",
       "</table>\n",
       "</div>"
      ],
      "text/plain": [
       "   PassengerId  Survived  Pclass   Age  SibSp  Parch     Fare  youngin  male  \\\n",
       "0            1         0       3  22.0      1      0   7.2500    False     1   \n",
       "1            2         1       1  38.0      1      0  71.2833    False     0   \n",
       "2            3         1       3  26.0      0      0   7.9250    False     0   \n",
       "3            4         1       1  35.0      1      0  53.1000    False     0   \n",
       "4            5         0       3  35.0      0      0   8.0500    False     1   \n",
       "\n",
       "   Q  S  \n",
       "0  0  1  \n",
       "1  0  0  \n",
       "2  0  1  \n",
       "3  0  1  \n",
       "4  0  1  "
      ]
     },
     "execution_count": 2,
     "metadata": {},
     "output_type": "execute_result"
    }
   ],
   "source": [
    "#Reading DF\n",
    "df=pd.read_csv('cleaned_titanic.csv')\n",
    "df.head(5)"
   ]
  },
  {
   "cell_type": "code",
   "execution_count": 3,
   "metadata": {
    "ExecuteTime": {
     "end_time": "2021-04-11T16:38:07.505346Z",
     "start_time": "2021-04-11T16:38:07.501504Z"
    }
   },
   "outputs": [],
   "source": [
    "#Creating my target variable and features\n",
    "y=df[\"Survived\"]\n",
    "X=df.drop(['Survived'],axis=1)"
   ]
  },
  {
   "cell_type": "code",
   "execution_count": 4,
   "metadata": {
    "ExecuteTime": {
     "end_time": "2021-04-11T16:38:07.512190Z",
     "start_time": "2021-04-11T16:38:07.507752Z"
    }
   },
   "outputs": [],
   "source": [
    "#Setting my train test split 80/20\n",
    "X_test,X_train,y_test,y_train=train_test_split(X,y, test_size=.2, random_state=21)"
   ]
  },
  {
   "cell_type": "code",
   "execution_count": 5,
   "metadata": {
    "ExecuteTime": {
     "end_time": "2021-04-11T16:38:07.516546Z",
     "start_time": "2021-04-11T16:38:07.513819Z"
    }
   },
   "outputs": [],
   "source": [
    "#Instantiating Logistic regression with weighted class.\n",
    "log_reg=LogisticRegression(max_iter=1000, random_state=21, class_weight=\"balanced\")"
   ]
  },
  {
   "cell_type": "code",
   "execution_count": 6,
   "metadata": {
    "ExecuteTime": {
     "end_time": "2021-04-11T16:38:07.751564Z",
     "start_time": "2021-04-11T16:38:07.519542Z"
    }
   },
   "outputs": [],
   "source": [
    "#Fitting and predicting\n",
    "log_reg.fit(X_train,y_train)\n",
    "\n",
    "log_pred=log_reg.predict(X_test)"
   ]
  },
  {
   "cell_type": "code",
   "execution_count": 7,
   "metadata": {
    "ExecuteTime": {
     "end_time": "2021-04-11T16:38:07.761066Z",
     "start_time": "2021-04-11T16:38:07.753670Z"
    }
   },
   "outputs": [
    {
     "name": "stdout",
     "output_type": "stream",
     "text": [
      "Logistic Regression Accuracy: 0.7918424753867792\n",
      "Logistic Regression Recall: 0.7708333333333334\n",
      "Logistic Regression F1: 0.75\n"
     ]
    }
   ],
   "source": [
    "#Looking at our metrics for our model\n",
    "print(\"Logistic Regression Accuracy: {}\".format(metrics.accuracy_score(y_test, log_pred)))\n",
    "print(\"Logistic Regression Recall: {}\".format(metrics.recall_score(y_test, log_pred)))\n",
    "print(\"Logistic Regression F1: {}\".format(metrics.f1_score(y_test,log_pred)))"
   ]
  },
  {
   "cell_type": "code",
   "execution_count": 8,
   "metadata": {
    "ExecuteTime": {
     "end_time": "2021-04-11T16:38:07.858419Z",
     "start_time": "2021-04-11T16:38:07.764256Z"
    }
   },
   "outputs": [],
   "source": [
    "#Importing Lime and lime Tabular.\n",
    "import lime\n",
    "import lime.lime_tabular\n",
    "\n",
    "#Instantiating our tabular explainer\n",
    "explainer = lime.lime_tabular.LimeTabularExplainer(X_train.values, #Training Values used for the model.\n",
    "                                                   feature_names = list(X.columns), #Feature names for X\n",
    "                                                   class_names = ['No',\"Yes\"], #String values for Y\n",
    "                                                   discretize_continuous=True)#True since we want to see  \n",
    "                                                                              #all the data at once"
   ]
  },
  {
   "cell_type": "code",
   "execution_count": 9,
   "metadata": {
    "ExecuteTime": {
     "end_time": "2021-04-11T16:38:10.503793Z",
     "start_time": "2021-04-11T16:38:07.860776Z"
    }
   },
   "outputs": [],
   "source": [
    "#Selecting a random test value\n",
    "i = np.random.randint(0, y_test.shape[0])\n",
    "\n",
    "#Using said value to create our explainer. \n",
    "exp = explainer.explain_instance(X_test.values[i],#Loading the testing value s\n",
    "                                 log_reg.predict_proba,\n",
    "                                 num_features=5)"
   ]
  },
  {
   "cell_type": "code",
   "execution_count": 12,
   "metadata": {
    "ExecuteTime": {
     "end_time": "2021-04-11T16:40:49.441129Z",
     "start_time": "2021-04-11T16:40:49.436035Z"
    }
   },
   "outputs": [
    {
     "ename": "SyntaxError",
     "evalue": "invalid syntax (<ipython-input-12-73e868a3e361>, line 2)",
     "output_type": "error",
     "traceback": [
      "\u001b[0;36m  File \u001b[0;32m\"<ipython-input-12-73e868a3e361>\"\u001b[0;36m, line \u001b[0;32m2\u001b[0m\n\u001b[0;31m    \"Survived: \")\u001b[0m\n\u001b[0m    ^\u001b[0m\n\u001b[0;31mSyntaxError\u001b[0m\u001b[0;31m:\u001b[0m invalid syntax\n"
     ]
    }
   ],
   "source": [
    "print(\"Value Selected:\"+\"\\n\",pd.DataFrame(zip(X.columns,X_test.values[i])).set_index(0).T\n",
    "     \"Survived: \")\n",
    "print(\"Survived\" if y_test[i]=1 else \"Did not Survive\")\n",
    "\n",
    "#Show explainer\n",
    "exp.show_in_notebook(show_table=True, show_all=False)"
   ]
  },
  {
   "cell_type": "code",
   "execution_count": null,
   "metadata": {},
   "outputs": [],
   "source": []
  }
 ],
 "metadata": {
  "kernelspec": {
   "display_name": "Python 3",
   "language": "python",
   "name": "python3"
  },
  "language_info": {
   "codemirror_mode": {
    "name": "ipython",
    "version": 3
   },
   "file_extension": ".py",
   "mimetype": "text/x-python",
   "name": "python",
   "nbconvert_exporter": "python",
   "pygments_lexer": "ipython3",
   "version": "3.8.3"
  }
 },
 "nbformat": 4,
 "nbformat_minor": 4
}
