{
 "cells": [
  {
   "cell_type": "code",
   "execution_count": null,
   "metadata": {
    "ExecuteTime": {
     "start_time": "2021-06-29T16:42:08.168Z"
    }
   },
   "outputs": [],
   "source": [
    "import pandas as pd\n",
    "import matplotlib as plt\n",
    "import matplotlib.pyplot as plt\n",
    "import numpy as np\n",
    "import time\n",
    "from IPython.display import clear_output"
   ]
  },
  {
   "cell_type": "code",
   "execution_count": null,
   "metadata": {
    "ExecuteTime": {
     "start_time": "2021-06-29T16:42:08.174Z"
    }
   },
   "outputs": [],
   "source": [
    "df = pd.read_csv(\"Puzzle.csv\", names=[\"a\", \"b\"])"
   ]
  },
  {
   "cell_type": "code",
   "execution_count": null,
   "metadata": {
    "ExecuteTime": {
     "start_time": "2021-06-29T16:42:08.177Z"
    }
   },
   "outputs": [],
   "source": [
    "df"
   ]
  },
  {
   "cell_type": "code",
   "execution_count": null,
   "metadata": {
    "ExecuteTime": {
     "start_time": "2021-06-29T16:42:08.178Z"
    }
   },
   "outputs": [],
   "source": [
    "df.plot.scatter(x=\"b\", y=\"a\", figsize=(10, 5))"
   ]
  },
  {
   "cell_type": "code",
   "execution_count": null,
   "metadata": {
    "ExecuteTime": {
     "start_time": "2021-06-29T16:42:08.180Z"
    }
   },
   "outputs": [],
   "source": [
    "df.columns = [\"y\", \"x\"]"
   ]
  },
  {
   "cell_type": "code",
   "execution_count": null,
   "metadata": {
    "ExecuteTime": {
     "start_time": "2021-06-29T16:42:08.183Z"
    }
   },
   "outputs": [],
   "source": [
    "df.value_counts()"
   ]
  },
  {
   "cell_type": "code",
   "execution_count": null,
   "metadata": {
    "ExecuteTime": {
     "start_time": "2021-06-29T16:42:08.185Z"
    }
   },
   "outputs": [],
   "source": [
    "size = pd.DataFrame(df.value_counts()).reset_index()\n",
    "size.columns = [\"y\", \"x\", \"s\"]\n",
    "size"
   ]
  },
  {
   "cell_type": "code",
   "execution_count": null,
   "metadata": {
    "ExecuteTime": {
     "start_time": "2021-06-29T16:42:08.187Z"
    },
    "scrolled": false
   },
   "outputs": [],
   "source": [
    "size.plot.scatter(x=\"x\", y=\"y\", s=\"s\", figsize=(10, 5))"
   ]
  },
  {
   "cell_type": "code",
   "execution_count": null,
   "metadata": {
    "ExecuteTime": {
     "start_time": "2021-06-29T16:42:08.190Z"
    }
   },
   "outputs": [],
   "source": [
    "img = plt.imread(\"world.png\")\n",
    "fig, ax = plt.subplots(figsize=(15,25))\n",
    "ax.imshow(img, extent=[-2.7,3.6,-1.2,1.5])\n",
    "ax.scatter(size.x[:20],size.y[:20])#, s= size.s[i]**2# \n",
    "plt.show()\n"
   ]
  },
  {
   "cell_type": "code",
   "execution_count": null,
   "metadata": {
    "ExecuteTime": {
     "start_time": "2021-06-29T16:42:08.192Z"
    },
    "scrolled": false
   },
   "outputs": [],
   "source": [
    "for i in size.index:\n",
    "    img = plt.imread(\"world.png\")\n",
    "    fig, ax = plt.subplots(figsize=(15,25))\n",
    "    ax.imshow(img, extent=[-2.7,3.6,-1.2,1.5])\n",
    "    ax.scatter(size.x[i],size.y[i])#, s= size.s[i]**2# \n",
    "    plt.show()\n",
    "    time.sleep(1)\n",
    "    clear_output(wait=True)\n"
   ]
  },
  {
   "cell_type": "code",
   "execution_count": null,
   "metadata": {
    "ExecuteTime": {
     "start_time": "2021-06-29T16:42:08.194Z"
    }
   },
   "outputs": [],
   "source": [
    "size = size.reset_index(drop=True)"
   ]
  },
  {
   "cell_type": "code",
   "execution_count": null,
   "metadata": {
    "ExecuteTime": {
     "start_time": "2021-06-29T16:42:08.196Z"
    }
   },
   "outputs": [],
   "source": [
    "size.y.plot()"
   ]
  },
  {
   "cell_type": "code",
   "execution_count": null,
   "metadata": {
    "ExecuteTime": {
     "start_time": "2021-06-29T16:42:08.198Z"
    }
   },
   "outputs": [],
   "source": [
    "size.x.plot()"
   ]
  },
  {
   "cell_type": "code",
   "execution_count": null,
   "metadata": {
    "ExecuteTime": {
     "start_time": "2021-06-29T16:42:08.201Z"
    }
   },
   "outputs": [],
   "source": [
    "df.plot(kind=\"hist\")"
   ]
  },
  {
   "cell_type": "code",
   "execution_count": null,
   "metadata": {
    "ExecuteTime": {
     "start_time": "2021-06-29T16:42:08.203Z"
    }
   },
   "outputs": [],
   "source": [
    "x = sorted(size.x)\n",
    "y = sorted(size.y)"
   ]
  },
  {
   "cell_type": "code",
   "execution_count": null,
   "metadata": {
    "ExecuteTime": {
     "start_time": "2021-06-29T16:42:08.205Z"
    }
   },
   "outputs": [],
   "source": [
    "sort = pd.DataFrame([x, y]).T\n",
    "sort.columns = [\"x\", \"y\"]"
   ]
  },
  {
   "cell_type": "code",
   "execution_count": null,
   "metadata": {
    "ExecuteTime": {
     "start_time": "2021-06-29T16:42:08.206Z"
    }
   },
   "outputs": [],
   "source": [
    "plt.scatter(sort.x, sort.y)"
   ]
  },
  {
   "cell_type": "code",
   "execution_count": null,
   "metadata": {
    "ExecuteTime": {
     "start_time": "2021-06-29T16:42:08.208Z"
    }
   },
   "outputs": [],
   "source": [
    "%load_ext nb_black"
   ]
  },
  {
   "cell_type": "code",
   "execution_count": null,
   "metadata": {},
   "outputs": [],
   "source": []
  }
 ],
 "metadata": {
  "kernelspec": {
   "display_name": "Python 3",
   "language": "python",
   "name": "python3"
  },
  "language_info": {
   "codemirror_mode": {
    "name": "ipython",
    "version": 3
   },
   "file_extension": ".py",
   "mimetype": "text/x-python",
   "name": "python",
   "nbconvert_exporter": "python",
   "pygments_lexer": "ipython3",
   "version": "3.8.3"
  }
 },
 "nbformat": 4,
 "nbformat_minor": 4
}
