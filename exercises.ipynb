{
 "cells": [
  {
   "cell_type": "code",
   "execution_count": 1,
   "metadata": {
    "ExecuteTime": {
     "end_time": "2021-03-22T22:36:02.062794Z",
     "start_time": "2021-03-22T22:36:02.045748Z"
    }
   },
   "outputs": [
    {
     "data": {
      "text/plain": [
       "'Fo1r the2 g3ood 4of th5e'"
      ]
     },
     "execution_count": 1,
     "metadata": {},
     "output_type": "execute_result"
    }
   ],
   "source": [
    "word= \"4of Fo1r pe6ople g3ood th5e the2\"\n",
    "length=range(1,len(word.split(\" \")))\n",
    "string=[]\n",
    "for i in length:\n",
    "    for w in word.split(\" \"):\n",
    "        if str(i) in list(w):\n",
    "            string.append(w)           \n",
    "\" \".join(string)"
   ]
  },
  {
   "cell_type": "code",
   "execution_count": 2,
   "metadata": {
    "ExecuteTime": {
     "end_time": "2021-03-22T22:36:02.074473Z",
     "start_time": "2021-03-22T22:36:02.066518Z"
    }
   },
   "outputs": [
    {
     "name": "stdout",
     "output_type": "stream",
     "text": [
      "n = 11 missing number = 10\n"
     ]
    }
   ],
   "source": [
    "arr=[3,7,1,2,8,4,5,9,11,6]\n",
    "for i in range(min(arr), max(arr)):\n",
    "    if i not in arr:\n",
    "        print(\"n = \"+ str(max(arr))+ \" missing number = \"+ str(i))\n",
    "        break"
   ]
  },
  {
   "cell_type": "code",
   "execution_count": 3,
   "metadata": {
    "ExecuteTime": {
     "end_time": "2021-03-22T22:36:02.085996Z",
     "start_time": "2021-03-22T22:36:02.080638Z"
    }
   },
   "outputs": [],
   "source": [
    "\n",
    "def is_leap(year):\n",
    "    l= False\n",
    "    if year % 4 != 0 and  year % 100 == 0:\n",
    "        l = False\n",
    "    elif year % 4 == 0 and year % 400 == 0 :\n",
    "        l = True\n",
    "    return l"
   ]
  },
  {
   "cell_type": "code",
   "execution_count": 4,
   "metadata": {
    "ExecuteTime": {
     "end_time": "2021-03-22T22:36:02.096415Z",
     "start_time": "2021-03-22T22:36:02.090256Z"
    }
   },
   "outputs": [
    {
     "data": {
      "text/plain": [
       "False"
      ]
     },
     "execution_count": 4,
     "metadata": {},
     "output_type": "execute_result"
    }
   ],
   "source": [
    "is_leap(1992)"
   ]
  },
  {
   "cell_type": "code",
   "execution_count": 5,
   "metadata": {
    "ExecuteTime": {
     "end_time": "2021-03-22T22:36:02.105893Z",
     "start_time": "2021-03-22T22:36:02.099898Z"
    }
   },
   "outputs": [
    {
     "data": {
      "text/plain": [
       "92"
      ]
     },
     "execution_count": 5,
     "metadata": {},
     "output_type": "execute_result"
    }
   ],
   "source": [
    "1992%100"
   ]
  },
  {
   "cell_type": "code",
   "execution_count": 6,
   "metadata": {
    "ExecuteTime": {
     "end_time": "2021-03-22T22:36:02.118278Z",
     "start_time": "2021-03-22T22:36:02.114426Z"
    }
   },
   "outputs": [],
   "source": [
    "problems=[1992,1996,2000]\n",
    "#true, true, true"
   ]
  },
  {
   "cell_type": "code",
   "execution_count": 7,
   "metadata": {
    "ExecuteTime": {
     "end_time": "2021-03-22T22:36:02.127944Z",
     "start_time": "2021-03-22T22:36:02.121609Z"
    }
   },
   "outputs": [],
   "source": [
    "\n",
    "def leap(year):\n",
    "    if year % 4!= 0:\n",
    "         leap= False\n",
    "    if year % 4 == 0 and (year%100!=0):\n",
    "        leap= True\n",
    "    elif year% 4 == 0 and (year%100==0 and year%400==0):\n",
    "        leap=True\n",
    "    else:\n",
    "        leap = False\n",
    "        \n",
    "    return leap"
   ]
  },
  {
   "cell_type": "code",
   "execution_count": 8,
   "metadata": {
    "ExecuteTime": {
     "end_time": "2021-03-22T22:36:02.139485Z",
     "start_time": "2021-03-22T22:36:02.134458Z"
    }
   },
   "outputs": [
    {
     "data": {
      "text/plain": [
       "True"
      ]
     },
     "execution_count": 8,
     "metadata": {},
     "output_type": "execute_result"
    }
   ],
   "source": [
    "leap(1996)"
   ]
  },
  {
   "cell_type": "code",
   "execution_count": 9,
   "metadata": {
    "ExecuteTime": {
     "end_time": "2021-03-22T22:36:02.147638Z",
     "start_time": "2021-03-22T22:36:02.143799Z"
    }
   },
   "outputs": [
    {
     "name": "stdout",
     "output_type": "stream",
     "text": [
      "1234\n"
     ]
    }
   ],
   "source": [
    "l=''\n",
    "for i in list(range(1,5)):\n",
    "    l+=str(i)\n",
    "print(l)"
   ]
  },
  {
   "cell_type": "code",
   "execution_count": 10,
   "metadata": {
    "ExecuteTime": {
     "end_time": "2021-03-22T22:36:02.158541Z",
     "start_time": "2021-03-22T22:36:02.150979Z"
    }
   },
   "outputs": [
    {
     "name": "stdout",
     "output_type": "stream",
     "text": [
      "AAA\n",
      "ACC\n",
      "AEE\n",
      "AHH\n",
      "AKK\n",
      "ARR\n",
      "CAA\n",
      "CCC\n",
      "CEE\n",
      "CHH\n",
      "CKK\n",
      "CRR\n",
      "EAA\n",
      "ECC\n",
      "EEE\n",
      "EHH\n",
      "EKK\n",
      "ERR\n",
      "HAA\n",
      "HCC\n",
      "HEE\n",
      "HHH\n",
      "HKK\n",
      "HRR\n",
      "KAA\n",
      "KCC\n",
      "KEE\n",
      "KHH\n",
      "KKK\n",
      "KRR\n",
      "RAA\n",
      "RCC\n",
      "REE\n",
      "RHH\n",
      "RKK\n",
      "RRR\n"
     ]
    }
   ],
   "source": [
    "inp=\"HACKER 3\"\n",
    "it=int(list(inp)[-1])\n",
    "words=list(sorted(list(inp.replace(' ',\"\"))[:-1]))\n",
    "listt=[]\n",
    "for i in range(len(words)):\n",
    "    for w in words:\n",
    "        print(words[i]+w*2)\n",
    "        "
   ]
  },
  {
   "cell_type": "code",
   "execution_count": 11,
   "metadata": {
    "ExecuteTime": {
     "end_time": "2021-03-22T22:36:02.165500Z",
     "start_time": "2021-03-22T22:36:02.161061Z"
    }
   },
   "outputs": [
    {
     "data": {
      "text/plain": [
       "[]"
      ]
     },
     "execution_count": 11,
     "metadata": {},
     "output_type": "execute_result"
    }
   ],
   "source": [
    "listt"
   ]
  },
  {
   "cell_type": "code",
   "execution_count": 12,
   "metadata": {
    "ExecuteTime": {
     "end_time": "2021-03-22T22:36:02.173056Z",
     "start_time": "2021-03-22T22:36:02.168635Z"
    }
   },
   "outputs": [
    {
     "data": {
      "text/plain": [
       "['A',\n",
       " 'C',\n",
       " 'E',\n",
       " 'H',\n",
       " 'K',\n",
       " 'R',\n",
       " 'A',\n",
       " 'C',\n",
       " 'E',\n",
       " 'H',\n",
       " 'K',\n",
       " 'R',\n",
       " 'A',\n",
       " 'C',\n",
       " 'E',\n",
       " 'H',\n",
       " 'K',\n",
       " 'R']"
      ]
     },
     "execution_count": 12,
     "metadata": {},
     "output_type": "execute_result"
    }
   ],
   "source": [
    "words*3"
   ]
  },
  {
   "cell_type": "code",
   "execution_count": 13,
   "metadata": {
    "ExecuteTime": {
     "end_time": "2021-03-22T22:36:02.180667Z",
     "start_time": "2021-03-22T22:36:02.176286Z"
    }
   },
   "outputs": [
    {
     "data": {
      "text/plain": [
       "'ab'"
      ]
     },
     "execution_count": 13,
     "metadata": {},
     "output_type": "execute_result"
    }
   ],
   "source": [
    "\"a\"+\"b\""
   ]
  },
  {
   "cell_type": "code",
   "execution_count": 14,
   "metadata": {
    "ExecuteTime": {
     "end_time": "2021-03-22T22:36:02.187099Z",
     "start_time": "2021-03-22T22:36:02.183829Z"
    }
   },
   "outputs": [],
   "source": [
    "dups=[1, 2, 5, 3 ,7 ,2 ,8 ,1 , 8, 2, 6 ]"
   ]
  },
  {
   "cell_type": "code",
   "execution_count": 15,
   "metadata": {
    "ExecuteTime": {
     "end_time": "2021-03-22T22:36:02.194011Z",
     "start_time": "2021-03-22T22:36:02.190469Z"
    }
   },
   "outputs": [],
   "source": [
    "items=[]\n",
    "for i in dups:\n",
    "    for n in range(len(dups)):\n",
    "        if i == dups[n]:\n",
    "             items.append (i )"
   ]
  },
  {
   "cell_type": "code",
   "execution_count": 16,
   "metadata": {
    "ExecuteTime": {
     "end_time": "2021-03-22T22:36:02.202113Z",
     "start_time": "2021-03-22T22:36:02.196982Z"
    }
   },
   "outputs": [
    {
     "data": {
      "text/plain": [
       "[1, 1, 2, 2, 2, 3, 5, 6, 7, 8, 8]"
      ]
     },
     "execution_count": 16,
     "metadata": {},
     "output_type": "execute_result"
    }
   ],
   "source": [
    "sorted(dups)"
   ]
  },
  {
   "cell_type": "code",
   "execution_count": 17,
   "metadata": {
    "ExecuteTime": {
     "end_time": "2021-03-22T22:36:02.208764Z",
     "start_time": "2021-03-22T22:36:02.204390Z"
    }
   },
   "outputs": [],
   "source": [
    "x = 2\n",
    "y = 2\n",
    "z = 2\n",
    "n = 2"
   ]
  },
  {
   "cell_type": "code",
   "execution_count": 18,
   "metadata": {
    "ExecuteTime": {
     "end_time": "2021-03-22T22:36:02.228912Z",
     "start_time": "2021-03-22T22:36:02.215389Z"
    }
   },
   "outputs": [
    {
     "name": "stdout",
     "output_type": "stream",
     "text": [
      "[[0, 0, 0], [0, 0, 1], [0, 1, 0], [0, 1, 2], [0, 2, 1], [0, 2, 2], [1, 0, 0], [1, 0, 2], [1, 1, 1], [1, 1, 2], [1, 2, 0], [1, 2, 1], [1, 2, 2], [2, 0, 1], [2, 0, 2], [2, 1, 0], [2, 1, 1], [2, 1, 2], [2, 2, 0], [2, 2, 1], [2, 2, 2]]\n"
     ]
    }
   ],
   "source": [
    "print ([[a,b,c] for a in range(0,x+1) for b in range(0,y+1) for c in range(0,z+1) if a + b + c != n ])"
   ]
  },
  {
   "cell_type": "code",
   "execution_count": 19,
   "metadata": {
    "ExecuteTime": {
     "end_time": "2021-03-22T22:36:02.234679Z",
     "start_time": "2021-03-22T22:36:02.231685Z"
    }
   },
   "outputs": [],
   "source": [
    "test=['e', 's', 's', 's', 'n', 'n', 'e', 'w', 'n', 'n'] #False\n",
    "#test=['n','n','n','s','n','s','n','s','n','s']#False\n",
    "#test=['n','s','n','s','n','s','n','s','n','s']#True"
   ]
  },
  {
   "cell_type": "code",
   "execution_count": 20,
   "metadata": {
    "ExecuteTime": {
     "end_time": "2021-03-22T22:36:02.242199Z",
     "start_time": "2021-03-22T22:36:02.237981Z"
    }
   },
   "outputs": [],
   "source": [
    "def is_valid_walk(walk):\n",
    "    y=sum([1 if i == \"n\" else -1 if i== \"s\" else 0 for i in walk])\n",
    "    x=sum([1 if i == \"w\" else -1 if i== \"e\" else 0 for i in walk ])\n",
    "    return True if x==0 and y==0 and len(walk)==10 else False"
   ]
  },
  {
   "cell_type": "code",
   "execution_count": 21,
   "metadata": {
    "ExecuteTime": {
     "end_time": "2021-03-22T22:36:02.251061Z",
     "start_time": "2021-03-22T22:36:02.244976Z"
    },
    "scrolled": true
   },
   "outputs": [
    {
     "data": {
      "text/plain": [
       "False"
      ]
     },
     "execution_count": 21,
     "metadata": {},
     "output_type": "execute_result"
    }
   ],
   "source": [
    "is_valid_walk(test)"
   ]
  },
  {
   "cell_type": "code",
   "execution_count": 22,
   "metadata": {
    "ExecuteTime": {
     "end_time": "2021-03-22T22:36:02.257609Z",
     "start_time": "2021-03-22T22:36:02.254660Z"
    }
   },
   "outputs": [],
   "source": [
    "num=4"
   ]
  },
  {
   "cell_type": "code",
   "execution_count": 23,
   "metadata": {
    "ExecuteTime": {
     "end_time": "2021-03-22T22:36:02.264982Z",
     "start_time": "2021-03-22T22:36:02.260701Z"
    }
   },
   "outputs": [],
   "source": [
    "def to_decimal(n):\n",
    "    dec=[]\n",
    "    while n!= 0:\n",
    "        dec.append(str(n%2))\n",
    "        n=n//2\n",
    "    dec.reverse()\n",
    "    return \"\".join(dec)"
   ]
  },
  {
   "cell_type": "code",
   "execution_count": 24,
   "metadata": {
    "ExecuteTime": {
     "end_time": "2021-03-22T22:36:02.273400Z",
     "start_time": "2021-03-22T22:36:02.268409Z"
    }
   },
   "outputs": [
    {
     "data": {
      "text/plain": [
       "'100'"
      ]
     },
     "execution_count": 24,
     "metadata": {},
     "output_type": "execute_result"
    }
   ],
   "source": [
    "to_decimal(num)"
   ]
  },
  {
   "cell_type": "code",
   "execution_count": 25,
   "metadata": {
    "ExecuteTime": {
     "end_time": "2021-03-22T22:36:02.280082Z",
     "start_time": "2021-03-22T22:36:02.277003Z"
    }
   },
   "outputs": [],
   "source": [
    "s=10"
   ]
  },
  {
   "cell_type": "code",
   "execution_count": 26,
   "metadata": {
    "ExecuteTime": {
     "end_time": "2021-03-22T22:36:02.287322Z",
     "start_time": "2021-03-22T22:36:02.282928Z"
    }
   },
   "outputs": [],
   "source": [
    "def to_hours(s):\n",
    "    h=(s//3600)\n",
    "    s=s-(h*3600)\n",
    "    m=(s)//60\n",
    "    s=s-(m*60)\n",
    "    return \"{:02}:{:02}:{:02}\".format(h,m,s)\n",
    "    "
   ]
  },
  {
   "cell_type": "code",
   "execution_count": 27,
   "metadata": {
    "ExecuteTime": {
     "end_time": "2021-03-22T22:36:02.293068Z",
     "start_time": "2021-03-22T22:36:02.289375Z"
    },
    "scrolled": true
   },
   "outputs": [
    {
     "data": {
      "text/plain": [
       "'00:00:10'"
      ]
     },
     "execution_count": 27,
     "metadata": {},
     "output_type": "execute_result"
    }
   ],
   "source": [
    "to_hours(s)"
   ]
  },
  {
   "cell_type": "code",
   "execution_count": 28,
   "metadata": {
    "ExecuteTime": {
     "end_time": "2021-03-22T22:36:02.298681Z",
     "start_time": "2021-03-22T22:36:02.295817Z"
    }
   },
   "outputs": [],
   "source": [
    "dup=\"Indivisibilities\""
   ]
  },
  {
   "cell_type": "code",
   "execution_count": 29,
   "metadata": {
    "ExecuteTime": {
     "end_time": "2021-03-22T22:36:02.305270Z",
     "start_time": "2021-03-22T22:36:02.301137Z"
    }
   },
   "outputs": [],
   "source": [
    "def dup_count(s):\n",
    "    l=list(s.lower())\n",
    "    u=set(s.lower())\n",
    "    for i in u:\n",
    "        if i in l:\n",
    "            l.remove(i)\n",
    "    return len(set(l))"
   ]
  },
  {
   "cell_type": "code",
   "execution_count": 30,
   "metadata": {
    "ExecuteTime": {
     "end_time": "2021-03-22T22:36:02.313477Z",
     "start_time": "2021-03-22T22:36:02.308487Z"
    }
   },
   "outputs": [
    {
     "data": {
      "text/plain": [
       "2"
      ]
     },
     "execution_count": 30,
     "metadata": {},
     "output_type": "execute_result"
    }
   ],
   "source": [
    "dup_count(dup)"
   ]
  },
  {
   "cell_type": "code",
   "execution_count": 31,
   "metadata": {
    "ExecuteTime": {
     "end_time": "2021-03-22T22:36:02.320873Z",
     "start_time": "2021-03-22T22:36:02.316126Z"
    }
   },
   "outputs": [
    {
     "data": {
      "text/plain": [
       "7"
      ]
     },
     "execution_count": 31,
     "metadata": {},
     "output_type": "execute_result"
    }
   ],
   "source": [
    "list(dup.lower()).count(\"i\")"
   ]
  },
  {
   "cell_type": "code",
   "execution_count": 32,
   "metadata": {
    "ExecuteTime": {
     "end_time": "2021-03-22T22:36:02.326512Z",
     "start_time": "2021-03-22T22:36:02.323815Z"
    }
   },
   "outputs": [],
   "source": [
    "strarr = [\"zone\", \"abigail\", \"theta\", \"form\", \"libe\", \"zas\"]\n",
    "k = 2"
   ]
  },
  {
   "cell_type": "code",
   "execution_count": 33,
   "metadata": {
    "ExecuteTime": {
     "end_time": "2021-03-22T22:36:02.332428Z",
     "start_time": "2021-03-22T22:36:02.329240Z"
    }
   },
   "outputs": [],
   "source": [
    "def longest_consec(strarr, k):\n",
    "    if len(strarr)==0 or k>len(strarr) or k<=0:\n",
    "        return \"\"\n",
    "    else:\n",
    "        return \"other\""
   ]
  },
  {
   "cell_type": "code",
   "execution_count": 34,
   "metadata": {
    "ExecuteTime": {
     "end_time": "2021-03-22T22:36:02.338199Z",
     "start_time": "2021-03-22T22:36:02.334323Z"
    }
   },
   "outputs": [
    {
     "data": {
      "text/plain": [
       "'other'"
      ]
     },
     "execution_count": 34,
     "metadata": {},
     "output_type": "execute_result"
    }
   ],
   "source": [
    "longest_consec(strarr,k)"
   ]
  },
  {
   "cell_type": "code",
   "execution_count": 35,
   "metadata": {
    "ExecuteTime": {
     "end_time": "2021-03-22T22:36:02.343316Z",
     "start_time": "2021-03-22T22:36:02.340534Z"
    }
   },
   "outputs": [],
   "source": [
    "arr1=[-2,1,2,3,4]\n",
    "arr2=[5,6,7,8]"
   ]
  },
  {
   "cell_type": "code",
   "execution_count": 36,
   "metadata": {
    "ExecuteTime": {
     "end_time": "2021-03-22T22:36:02.348143Z",
     "start_time": "2021-03-22T22:36:02.345638Z"
    }
   },
   "outputs": [],
   "source": [
    "def merge_arrays(arr1, arr2):\n",
    "    return list(set(sorted(arr1+arr2)))"
   ]
  },
  {
   "cell_type": "code",
   "execution_count": 37,
   "metadata": {
    "ExecuteTime": {
     "end_time": "2021-03-22T22:36:02.353941Z",
     "start_time": "2021-03-22T22:36:02.350534Z"
    }
   },
   "outputs": [
    {
     "data": {
      "text/plain": [
       "[1, 2, 3, 4, 5, 6, 7, 8, -2]"
      ]
     },
     "execution_count": 37,
     "metadata": {},
     "output_type": "execute_result"
    }
   ],
   "source": [
    "merge_arrays(arr1, arr2)"
   ]
  },
  {
   "cell_type": "code",
   "execution_count": 38,
   "metadata": {
    "ExecuteTime": {
     "end_time": "2021-03-22T22:36:02.359709Z",
     "start_time": "2021-03-22T22:36:02.355651Z"
    }
   },
   "outputs": [
    {
     "data": {
      "text/plain": [
       "[-2, 1, 2, 3, 4, 5, 6, 7, 8]"
      ]
     },
     "execution_count": 38,
     "metadata": {},
     "output_type": "execute_result"
    }
   ],
   "source": [
    "sorted(set(arr1+arr2))"
   ]
  },
  {
   "cell_type": "code",
   "execution_count": 39,
   "metadata": {
    "ExecuteTime": {
     "end_time": "2021-03-22T22:36:02.364261Z",
     "start_time": "2021-03-22T22:36:02.361836Z"
    }
   },
   "outputs": [],
   "source": [
    "mat=[ \"abc\",\"def\"]"
   ]
  },
  {
   "cell_type": "code",
   "execution_count": 40,
   "metadata": {
    "ExecuteTime": {
     "end_time": "2021-03-22T22:36:02.370087Z",
     "start_time": "2021-03-22T22:36:02.366414Z"
    }
   },
   "outputs": [],
   "source": [
    "mat=[list(i) for i in mat]"
   ]
  },
  {
   "cell_type": "code",
   "execution_count": 41,
   "metadata": {
    "ExecuteTime": {
     "end_time": "2021-03-22T22:36:02.482831Z",
     "start_time": "2021-03-22T22:36:02.372057Z"
    }
   },
   "outputs": [
    {
     "ename": "TypeError",
     "evalue": "index expected at least 1 argument, got 0",
     "output_type": "error",
     "traceback": [
      "\u001b[0;31m---------------------------------------------------------------------------\u001b[0m",
      "\u001b[0;31mTypeError\u001b[0m                                 Traceback (most recent call last)",
      "\u001b[0;32m<ipython-input-41-63c547636028>\u001b[0m in \u001b[0;36m<module>\u001b[0;34m\u001b[0m\n\u001b[0;32m----> 1\u001b[0;31m \u001b[0mmat\u001b[0m\u001b[0;34m.\u001b[0m\u001b[0mindex\u001b[0m\u001b[0;34m(\u001b[0m\u001b[0;34m)\u001b[0m\u001b[0;34m\u001b[0m\u001b[0;34m\u001b[0m\u001b[0m\n\u001b[0m",
      "\u001b[0;31mTypeError\u001b[0m: index expected at least 1 argument, got 0"
     ]
    }
   ],
   "source": [
    "mat.index()"
   ]
  },
  {
   "cell_type": "code",
   "execution_count": null,
   "metadata": {
    "ExecuteTime": {
     "end_time": "2021-03-22T22:36:02.485006Z",
     "start_time": "2021-03-22T22:36:02.128Z"
    }
   },
   "outputs": [],
   "source": [
    "float(2,1)"
   ]
  },
  {
   "cell_type": "code",
   "execution_count": null,
   "metadata": {
    "ExecuteTime": {
     "end_time": "2021-03-22T22:36:02.486564Z",
     "start_time": "2021-03-22T22:36:02.130Z"
    }
   },
   "outputs": [],
   "source": [
    "a=[\"a\", \"g\",'b',1,4, 2]"
   ]
  },
  {
   "cell_type": "code",
   "execution_count": null,
   "metadata": {
    "ExecuteTime": {
     "end_time": "2021-03-22T22:36:02.488416Z",
     "start_time": "2021-03-22T22:36:02.131Z"
    }
   },
   "outputs": [],
   "source": [
    "sorted(a)"
   ]
  },
  {
   "cell_type": "code",
   "execution_count": null,
   "metadata": {},
   "outputs": [],
   "source": []
  },
  {
   "cell_type": "code",
   "execution_count": null,
   "metadata": {},
   "outputs": [],
   "source": []
  }
 ],
 "metadata": {
  "kernelspec": {
   "display_name": "Python 3",
   "language": "python",
   "name": "python3"
  },
  "language_info": {
   "codemirror_mode": {
    "name": "ipython",
    "version": 3
   },
   "file_extension": ".py",
   "mimetype": "text/x-python",
   "name": "python",
   "nbconvert_exporter": "python",
   "pygments_lexer": "ipython3",
   "version": "3.8.3"
  }
 },
 "nbformat": 4,
 "nbformat_minor": 4
}
