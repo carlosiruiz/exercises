{
 "cells": [
  {
   "cell_type": "code",
   "execution_count": 52,
   "metadata": {
    "ExecuteTime": {
     "end_time": "2021-02-02T22:17:09.291446Z",
     "start_time": "2021-02-02T22:17:09.285594Z"
    }
   },
   "outputs": [
    {
     "data": {
      "text/plain": [
       "'Fo1r the2 g3ood 4of th5e'"
      ]
     },
     "execution_count": 52,
     "metadata": {},
     "output_type": "execute_result"
    }
   ],
   "source": [
    "word= \"4of Fo1r pe6ople g3ood th5e the2\"\n",
    "length=range(1,len(word.split(\" \")))\n",
    "string=[]\n",
    "for i in length:\n",
    "    for w in word.split(\" \"):\n",
    "        if str(i) in list(w):\n",
    "            string.append(w)           \n",
    "\" \".join(string)"
   ]
  },
  {
   "cell_type": "code",
   "execution_count": 61,
   "metadata": {
    "ExecuteTime": {
     "end_time": "2021-02-02T22:22:34.544607Z",
     "start_time": "2021-02-02T22:22:34.538896Z"
    }
   },
   "outputs": [
    {
     "name": "stdout",
     "output_type": "stream",
     "text": [
      "n = 11 missing number = 10\n"
     ]
    }
   ],
   "source": [
    "arr=[3,7,1,2,8,4,5,9,11,6]\n",
    "for i in range(min(arr), max(arr)):\n",
    "    if i not in arr:\n",
    "        print(\"n = \"+ str(max(arr))+ \" missing number = \"+ str(i))\n",
    "        break"
   ]
  },
  {
   "cell_type": "code",
   "execution_count": 57,
   "metadata": {
    "ExecuteTime": {
     "end_time": "2021-02-04T20:00:17.810390Z",
     "start_time": "2021-02-04T20:00:17.805903Z"
    }
   },
   "outputs": [],
   "source": [
    "\n",
    "def is_leap(year):\n",
    "    l= False\n",
    "    if year % 4 != 0 and  year % 100 == 0:\n",
    "        l = False\n",
    "    elif year % 4 == 0 and year % 400 == 0 :\n",
    "        l = True\n",
    "    return l"
   ]
  },
  {
   "cell_type": "code",
   "execution_count": 60,
   "metadata": {
    "ExecuteTime": {
     "end_time": "2021-02-04T20:00:29.137289Z",
     "start_time": "2021-02-04T20:00:29.132471Z"
    }
   },
   "outputs": [
    {
     "data": {
      "text/plain": [
       "False"
      ]
     },
     "execution_count": 60,
     "metadata": {},
     "output_type": "execute_result"
    }
   ],
   "source": [
    "is_leap(1992)"
   ]
  },
  {
   "cell_type": "code",
   "execution_count": 68,
   "metadata": {
    "ExecuteTime": {
     "end_time": "2021-02-04T20:05:20.532749Z",
     "start_time": "2021-02-04T20:05:20.528373Z"
    }
   },
   "outputs": [
    {
     "data": {
      "text/plain": [
       "92"
      ]
     },
     "execution_count": 68,
     "metadata": {},
     "output_type": "execute_result"
    }
   ],
   "source": [
    "1992%100"
   ]
  },
  {
   "cell_type": "code",
   "execution_count": 48,
   "metadata": {
    "ExecuteTime": {
     "end_time": "2021-02-04T19:57:53.597224Z",
     "start_time": "2021-02-04T19:57:53.594032Z"
    }
   },
   "outputs": [],
   "source": [
    "problems=[1992,1996,2000]\n",
    "#true, true, true"
   ]
  },
  {
   "cell_type": "code",
   "execution_count": 69,
   "metadata": {
    "ExecuteTime": {
     "end_time": "2021-02-04T20:06:56.526589Z",
     "start_time": "2021-02-04T20:06:56.521528Z"
    }
   },
   "outputs": [],
   "source": [
    "\n",
    "def leap(year):\n",
    "    if year % 4!= 0:\n",
    "         leap= False\n",
    "    if year % 4 == 0 and (year%100!=0):\n",
    "        leap= True\n",
    "    elif year% 4 == 0 and (year%100==0 and year%400==0):\n",
    "        leap=True\n",
    "    else:\n",
    "        leap = False\n",
    "        \n",
    "    return leap"
   ]
  },
  {
   "cell_type": "code",
   "execution_count": 71,
   "metadata": {
    "ExecuteTime": {
     "end_time": "2021-02-04T20:07:52.451161Z",
     "start_time": "2021-02-04T20:07:52.446859Z"
    }
   },
   "outputs": [
    {
     "data": {
      "text/plain": [
       "True"
      ]
     },
     "execution_count": 71,
     "metadata": {},
     "output_type": "execute_result"
    }
   ],
   "source": [
    "leap(1996)"
   ]
  },
  {
   "cell_type": "code",
   "execution_count": 81,
   "metadata": {
    "ExecuteTime": {
     "end_time": "2021-02-04T21:17:55.892717Z",
     "start_time": "2021-02-04T21:17:55.888156Z"
    }
   },
   "outputs": [
    {
     "name": "stdout",
     "output_type": "stream",
     "text": [
      "1234\n"
     ]
    }
   ],
   "source": [
    "l=''\n",
    "for i in list(range(1,5)):\n",
    "    l+=str(i)\n",
    "print(l)"
   ]
  },
  {
   "cell_type": "code",
   "execution_count": 214,
   "metadata": {
    "ExecuteTime": {
     "end_time": "2021-02-05T01:05:55.177300Z",
     "start_time": "2021-02-05T01:05:55.171931Z"
    }
   },
   "outputs": [
    {
     "name": "stdout",
     "output_type": "stream",
     "text": [
      "AAA\n",
      "ACC\n",
      "AEE\n",
      "AHH\n",
      "AKK\n",
      "ARR\n",
      "CAA\n",
      "CCC\n",
      "CEE\n",
      "CHH\n",
      "CKK\n",
      "CRR\n",
      "EAA\n",
      "ECC\n",
      "EEE\n",
      "EHH\n",
      "EKK\n",
      "ERR\n",
      "HAA\n",
      "HCC\n",
      "HEE\n",
      "HHH\n",
      "HKK\n",
      "HRR\n",
      "KAA\n",
      "KCC\n",
      "KEE\n",
      "KHH\n",
      "KKK\n",
      "KRR\n",
      "RAA\n",
      "RCC\n",
      "REE\n",
      "RHH\n",
      "RKK\n",
      "RRR\n"
     ]
    }
   ],
   "source": [
    "inp=\"HACKER 3\"\n",
    "it=int(list(inp)[-1])\n",
    "words=list(sorted(list(inp.replace(' ',\"\"))[:-1]))\n",
    "listt=[]\n",
    "for i in range(len(words)):\n",
    "    for w in words:\n",
    "        print(words[i]+w*2)\n",
    "        "
   ]
  },
  {
   "cell_type": "code",
   "execution_count": 206,
   "metadata": {
    "ExecuteTime": {
     "end_time": "2021-02-05T00:57:18.314653Z",
     "start_time": "2021-02-05T00:57:18.309029Z"
    }
   },
   "outputs": [
    {
     "data": {
      "text/plain": [
       "[['AAA', 'AAC', 'AAE', 'AAH', 'AAK', 'AAR'],\n",
       " ['CCA', 'CCC', 'CCE', 'CCH', 'CCK', 'CCR'],\n",
       " ['EEA', 'EEC', 'EEE', 'EEH', 'EEK', 'EER'],\n",
       " ['HHA', 'HHC', 'HHE', 'HHH', 'HHK', 'HHR'],\n",
       " ['KKA', 'KKC', 'KKE', 'KKH', 'KKK', 'KKR'],\n",
       " ['RRA', 'RRC', 'RRE', 'RRH', 'RRK', 'RRR']]"
      ]
     },
     "execution_count": 206,
     "metadata": {},
     "output_type": "execute_result"
    }
   ],
   "source": [
    "listt"
   ]
  },
  {
   "cell_type": "code",
   "execution_count": 209,
   "metadata": {
    "ExecuteTime": {
     "end_time": "2021-02-05T01:00:54.042971Z",
     "start_time": "2021-02-05T01:00:54.038315Z"
    }
   },
   "outputs": [
    {
     "data": {
      "text/plain": [
       "['A',\n",
       " 'C',\n",
       " 'E',\n",
       " 'H',\n",
       " 'K',\n",
       " 'R',\n",
       " 'A',\n",
       " 'C',\n",
       " 'E',\n",
       " 'H',\n",
       " 'K',\n",
       " 'R',\n",
       " 'A',\n",
       " 'C',\n",
       " 'E',\n",
       " 'H',\n",
       " 'K',\n",
       " 'R']"
      ]
     },
     "execution_count": 209,
     "metadata": {},
     "output_type": "execute_result"
    }
   ],
   "source": [
    "words*3"
   ]
  },
  {
   "cell_type": "code",
   "execution_count": 212,
   "metadata": {
    "ExecuteTime": {
     "end_time": "2021-02-05T01:03:09.808324Z",
     "start_time": "2021-02-05T01:03:09.803548Z"
    }
   },
   "outputs": [
    {
     "data": {
      "text/plain": [
       "'ab'"
      ]
     },
     "execution_count": 212,
     "metadata": {},
     "output_type": "execute_result"
    }
   ],
   "source": [
    "\"a\"+\"b\""
   ]
  },
  {
   "cell_type": "code",
   "execution_count": 2,
   "metadata": {
    "ExecuteTime": {
     "end_time": "2021-02-05T18:58:23.689352Z",
     "start_time": "2021-02-05T18:58:23.685294Z"
    }
   },
   "outputs": [],
   "source": [
    "dups=[1, 2, 5, 3 ,7 ,2 ,8 ,1 , 8, 2, 6 ]"
   ]
  },
  {
   "cell_type": "code",
   "execution_count": 4,
   "metadata": {
    "ExecuteTime": {
     "end_time": "2021-02-05T18:59:02.405781Z",
     "start_time": "2021-02-05T18:59:02.401147Z"
    }
   },
   "outputs": [
    {
     "name": "stdout",
     "output_type": "stream",
     "text": [
      "1\n",
      "2\n",
      "5\n",
      "3\n",
      "7\n",
      "2\n",
      "8\n",
      "1\n",
      "8\n",
      "2\n",
      "6\n"
     ]
    }
   ],
   "source": [
    "items=[]\n",
    "for i in dups:\n",
    "    for n in range(len(dups))\n",
    "        if i == dups[n]:\n",
    "             items.append (i )"
   ]
  },
  {
   "cell_type": "code",
   "execution_count": 7,
   "metadata": {
    "ExecuteTime": {
     "end_time": "2021-02-05T19:13:17.886963Z",
     "start_time": "2021-02-05T19:13:17.876692Z"
    }
   },
   "outputs": [
    {
     "data": {
      "text/plain": [
       "[1, 1, 2, 2, 2, 3, 5, 6, 7, 8, 8]"
      ]
     },
     "execution_count": 7,
     "metadata": {},
     "output_type": "execute_result"
    }
   ],
   "source": [
    "sorted(dups)"
   ]
  },
  {
   "cell_type": "code",
   "execution_count": 1,
   "metadata": {
    "ExecuteTime": {
     "end_time": "2021-03-06T00:32:28.738405Z",
     "start_time": "2021-03-06T00:32:28.735060Z"
    }
   },
   "outputs": [],
   "source": [
    "x = 2\n",
    "y = 2\n",
    "z = 2\n",
    "n = 2"
   ]
  },
  {
   "cell_type": "code",
   "execution_count": 17,
   "metadata": {
    "ExecuteTime": {
     "end_time": "2021-03-06T00:42:06.904707Z",
     "start_time": "2021-03-06T00:42:06.899177Z"
    }
   },
   "outputs": [
    {
     "name": "stdout",
     "output_type": "stream",
     "text": [
      "[[0, 0, 0], [0, 0, 1], [0, 1, 0], [0, 1, 2], [0, 2, 1], [0, 2, 2], [1, 0, 0], [1, 0, 2], [1, 1, 1], [1, 1, 2], [1, 2, 0], [1, 2, 1], [1, 2, 2], [2, 0, 1], [2, 0, 2], [2, 1, 0], [2, 1, 1], [2, 1, 2], [2, 2, 0], [2, 2, 1], [2, 2, 2]]\n"
     ]
    }
   ],
   "source": [
    "print ([[a,b,c] for a in range(0,x+1) for b in range(0,y+1) for c in range(0,z+1) if a + b + c != n ])"
   ]
  },
  {
   "cell_type": "code",
   "execution_count": 92,
   "metadata": {
    "ExecuteTime": {
     "end_time": "2021-03-09T20:43:43.598596Z",
     "start_time": "2021-03-09T20:43:43.594887Z"
    }
   },
   "outputs": [],
   "source": [
    "test=['e', 's', 's', 's', 'n', 'n', 'e', 'w', 'n', 'n'] #False\n",
    "#test=['n','n','n','s','n','s','n','s','n','s']#False\n",
    "#test=['n','s','n','s','n','s','n','s','n','s']#True"
   ]
  },
  {
   "cell_type": "code",
   "execution_count": 93,
   "metadata": {
    "ExecuteTime": {
     "end_time": "2021-03-09T20:43:43.978569Z",
     "start_time": "2021-03-09T20:43:43.974150Z"
    }
   },
   "outputs": [],
   "source": [
    "def is_valid_walk(walk):\n",
    "    y=sum([1 if i == \"n\" else -1 if i== \"s\" else 0 for i in walk])\n",
    "    x=sum([1 if i == \"w\" else -1 if i== \"e\" else 0 for i in walk ])\n",
    "    return True if x==0 and y==0 and len(walk)==10 else False"
   ]
  },
  {
   "cell_type": "code",
   "execution_count": 94,
   "metadata": {
    "ExecuteTime": {
     "end_time": "2021-03-09T20:43:44.433601Z",
     "start_time": "2021-03-09T20:43:44.429478Z"
    },
    "scrolled": true
   },
   "outputs": [
    {
     "data": {
      "text/plain": [
       "False"
      ]
     },
     "execution_count": 94,
     "metadata": {},
     "output_type": "execute_result"
    }
   ],
   "source": [
    "is_valid_walk(test)"
   ]
  },
  {
   "cell_type": "code",
   "execution_count": 129,
   "metadata": {
    "ExecuteTime": {
     "end_time": "2021-03-09T21:06:37.251568Z",
     "start_time": "2021-03-09T21:06:37.248556Z"
    }
   },
   "outputs": [],
   "source": [
    "num=4"
   ]
  },
  {
   "cell_type": "code",
   "execution_count": 135,
   "metadata": {
    "ExecuteTime": {
     "end_time": "2021-03-09T21:12:39.481067Z",
     "start_time": "2021-03-09T21:12:39.476524Z"
    }
   },
   "outputs": [],
   "source": [
    "def to_decimal(n):\n",
    "    dec=[]\n",
    "    while n!= 0:\n",
    "        dec.append(str(n%2))\n",
    "        n=n//2\n",
    "    dec.reverse()\n",
    "    return \"\".join(dec)"
   ]
  },
  {
   "cell_type": "code",
   "execution_count": 136,
   "metadata": {
    "ExecuteTime": {
     "end_time": "2021-03-09T21:12:40.205095Z",
     "start_time": "2021-03-09T21:12:40.199900Z"
    }
   },
   "outputs": [
    {
     "data": {
      "text/plain": [
       "'100'"
      ]
     },
     "execution_count": 136,
     "metadata": {},
     "output_type": "execute_result"
    }
   ],
   "source": [
    "to_decimal(num)"
   ]
  },
  {
   "cell_type": "code",
   "execution_count": 132,
   "metadata": {
    "ExecuteTime": {
     "end_time": "2021-03-09T21:06:56.125347Z",
     "start_time": "2021-03-09T21:06:56.120569Z"
    }
   },
   "outputs": [
    {
     "data": {
      "text/plain": [
       "0"
      ]
     },
     "execution_count": 132,
     "metadata": {},
     "output_type": "execute_result"
    }
   ],
   "source": [
    "2%2"
   ]
  },
  {
   "cell_type": "code",
   "execution_count": null,
   "metadata": {},
   "outputs": [],
   "source": []
  }
 ],
 "metadata": {
  "kernelspec": {
   "display_name": "Python 3",
   "language": "python",
   "name": "python3"
  },
  "language_info": {
   "codemirror_mode": {
    "name": "ipython",
    "version": 3
   },
   "file_extension": ".py",
   "mimetype": "text/x-python",
   "name": "python",
   "nbconvert_exporter": "python",
   "pygments_lexer": "ipython3",
   "version": "3.8.3"
  }
 },
 "nbformat": 4,
 "nbformat_minor": 4
}
