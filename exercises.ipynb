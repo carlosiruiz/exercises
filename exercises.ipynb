{
 "cells": [
  {
   "cell_type": "code",
   "execution_count": 1,
   "metadata": {
    "ExecuteTime": {
     "end_time": "2021-07-09T02:50:47.850674Z",
     "start_time": "2021-07-09T02:50:47.839013Z"
    }
   },
   "outputs": [
    {
     "data": {
      "text/plain": [
       "'Fo1r the2 g3ood 4of th5e'"
      ]
     },
     "execution_count": 1,
     "metadata": {},
     "output_type": "execute_result"
    }
   ],
   "source": [
    "word= \"4of Fo1r pe6ople g3ood th5e the2\"\n",
    "length=range(1,len(word.split(\" \")))\n",
    "string=[]\n",
    "for i in length:\n",
    "    for w in word.split(\" \"):\n",
    "        if str(i) in list(w):\n",
    "            string.append(w)           \n",
    "\" \".join(string)"
   ]
  },
  {
   "cell_type": "code",
   "execution_count": 2,
   "metadata": {
    "ExecuteTime": {
     "end_time": "2021-07-09T02:50:47.858885Z",
     "start_time": "2021-07-09T02:50:47.853402Z"
    }
   },
   "outputs": [
    {
     "name": "stdout",
     "output_type": "stream",
     "text": [
      "n = 11 missing number = 10\n"
     ]
    }
   ],
   "source": [
    "arr=[3,7,1,2,8,4,5,9,11,6]\n",
    "for i in range(min(arr), max(arr)):\n",
    "    if i not in arr:\n",
    "        print(\"n = \"+ str(max(arr))+ \" missing number = \"+ str(i))\n",
    "        break"
   ]
  },
  {
   "cell_type": "code",
   "execution_count": 3,
   "metadata": {
    "ExecuteTime": {
     "end_time": "2021-07-09T02:50:47.865654Z",
     "start_time": "2021-07-09T02:50:47.862235Z"
    }
   },
   "outputs": [],
   "source": [
    "\n",
    "def is_leap(year):\n",
    "    l= False\n",
    "    if year % 4 != 0 and  year % 100 == 0:\n",
    "        l = False\n",
    "    elif year % 4 == 0 and year % 400 == 0 :\n",
    "        l = True\n",
    "    return l"
   ]
  },
  {
   "cell_type": "code",
   "execution_count": 4,
   "metadata": {
    "ExecuteTime": {
     "end_time": "2021-07-09T02:50:47.871929Z",
     "start_time": "2021-07-09T02:50:47.868492Z"
    }
   },
   "outputs": [
    {
     "data": {
      "text/plain": [
       "False"
      ]
     },
     "execution_count": 4,
     "metadata": {},
     "output_type": "execute_result"
    }
   ],
   "source": [
    "is_leap(1992)"
   ]
  },
  {
   "cell_type": "code",
   "execution_count": 5,
   "metadata": {
    "ExecuteTime": {
     "end_time": "2021-07-09T02:50:47.878032Z",
     "start_time": "2021-07-09T02:50:47.874093Z"
    }
   },
   "outputs": [
    {
     "data": {
      "text/plain": [
       "92"
      ]
     },
     "execution_count": 5,
     "metadata": {},
     "output_type": "execute_result"
    }
   ],
   "source": [
    "1992%100"
   ]
  },
  {
   "cell_type": "code",
   "execution_count": 6,
   "metadata": {
    "ExecuteTime": {
     "end_time": "2021-07-09T02:50:47.882745Z",
     "start_time": "2021-07-09T02:50:47.880164Z"
    }
   },
   "outputs": [],
   "source": [
    "problems=[1992,1996,2000]\n",
    "#true, true, true"
   ]
  },
  {
   "cell_type": "code",
   "execution_count": 7,
   "metadata": {
    "ExecuteTime": {
     "end_time": "2021-07-09T02:50:47.888823Z",
     "start_time": "2021-07-09T02:50:47.884684Z"
    }
   },
   "outputs": [],
   "source": [
    "\n",
    "def leap(year):\n",
    "    if year % 4!= 0:\n",
    "         leap= False\n",
    "    if year % 4 == 0 and (year%100!=0):\n",
    "        leap= True\n",
    "    elif year% 4 == 0 and (year%100==0 and year%400==0):\n",
    "        leap=True\n",
    "    else:\n",
    "        leap = False\n",
    "        \n",
    "    return leap"
   ]
  },
  {
   "cell_type": "code",
   "execution_count": 8,
   "metadata": {
    "ExecuteTime": {
     "end_time": "2021-07-09T02:50:47.896884Z",
     "start_time": "2021-07-09T02:50:47.892998Z"
    }
   },
   "outputs": [
    {
     "data": {
      "text/plain": [
       "True"
      ]
     },
     "execution_count": 8,
     "metadata": {},
     "output_type": "execute_result"
    }
   ],
   "source": [
    "leap(1996)"
   ]
  },
  {
   "cell_type": "code",
   "execution_count": 9,
   "metadata": {
    "ExecuteTime": {
     "end_time": "2021-07-09T02:50:47.903194Z",
     "start_time": "2021-07-09T02:50:47.900131Z"
    }
   },
   "outputs": [
    {
     "name": "stdout",
     "output_type": "stream",
     "text": [
      "1234\n"
     ]
    }
   ],
   "source": [
    "l=''\n",
    "for i in list(range(1,5)):\n",
    "    l+=str(i)\n",
    "print(l)"
   ]
  },
  {
   "cell_type": "code",
   "execution_count": 10,
   "metadata": {
    "ExecuteTime": {
     "end_time": "2021-07-09T02:50:47.910443Z",
     "start_time": "2021-07-09T02:50:47.905028Z"
    }
   },
   "outputs": [
    {
     "name": "stdout",
     "output_type": "stream",
     "text": [
      "AAA\n",
      "ACC\n",
      "AEE\n",
      "AHH\n",
      "AKK\n",
      "ARR\n",
      "CAA\n",
      "CCC\n",
      "CEE\n",
      "CHH\n",
      "CKK\n",
      "CRR\n",
      "EAA\n",
      "ECC\n",
      "EEE\n",
      "EHH\n",
      "EKK\n",
      "ERR\n",
      "HAA\n",
      "HCC\n",
      "HEE\n",
      "HHH\n",
      "HKK\n",
      "HRR\n",
      "KAA\n",
      "KCC\n",
      "KEE\n",
      "KHH\n",
      "KKK\n",
      "KRR\n",
      "RAA\n",
      "RCC\n",
      "REE\n",
      "RHH\n",
      "RKK\n",
      "RRR\n"
     ]
    }
   ],
   "source": [
    "inp=\"HACKER 3\"\n",
    "it=int(list(inp)[-1])\n",
    "words=list(sorted(list(inp.replace(' ',\"\"))[:-1]))\n",
    "listt=[]\n",
    "for i in range(len(words)):\n",
    "    for w in words:\n",
    "        print(words[i]+w*2)\n",
    "        "
   ]
  },
  {
   "cell_type": "code",
   "execution_count": 11,
   "metadata": {
    "ExecuteTime": {
     "end_time": "2021-07-09T02:50:47.915596Z",
     "start_time": "2021-07-09T02:50:47.912392Z"
    }
   },
   "outputs": [
    {
     "data": {
      "text/plain": [
       "[]"
      ]
     },
     "execution_count": 11,
     "metadata": {},
     "output_type": "execute_result"
    }
   ],
   "source": [
    "listt"
   ]
  },
  {
   "cell_type": "code",
   "execution_count": 12,
   "metadata": {
    "ExecuteTime": {
     "end_time": "2021-07-09T02:50:47.922839Z",
     "start_time": "2021-07-09T02:50:47.917943Z"
    }
   },
   "outputs": [
    {
     "data": {
      "text/plain": [
       "['A',\n",
       " 'C',\n",
       " 'E',\n",
       " 'H',\n",
       " 'K',\n",
       " 'R',\n",
       " 'A',\n",
       " 'C',\n",
       " 'E',\n",
       " 'H',\n",
       " 'K',\n",
       " 'R',\n",
       " 'A',\n",
       " 'C',\n",
       " 'E',\n",
       " 'H',\n",
       " 'K',\n",
       " 'R']"
      ]
     },
     "execution_count": 12,
     "metadata": {},
     "output_type": "execute_result"
    }
   ],
   "source": [
    "words*3"
   ]
  },
  {
   "cell_type": "code",
   "execution_count": 13,
   "metadata": {
    "ExecuteTime": {
     "end_time": "2021-07-09T02:50:47.930923Z",
     "start_time": "2021-07-09T02:50:47.926372Z"
    }
   },
   "outputs": [
    {
     "data": {
      "text/plain": [
       "'ab'"
      ]
     },
     "execution_count": 13,
     "metadata": {},
     "output_type": "execute_result"
    }
   ],
   "source": [
    "\"a\"+\"b\""
   ]
  },
  {
   "cell_type": "code",
   "execution_count": 14,
   "metadata": {
    "ExecuteTime": {
     "end_time": "2021-07-09T02:50:47.937067Z",
     "start_time": "2021-07-09T02:50:47.933785Z"
    }
   },
   "outputs": [],
   "source": [
    "dups=[1, 2, 5, 3 ,7 ,2 ,8 ,1 , 8, 2, 6 ]"
   ]
  },
  {
   "cell_type": "code",
   "execution_count": 15,
   "metadata": {
    "ExecuteTime": {
     "end_time": "2021-07-09T02:50:47.944205Z",
     "start_time": "2021-07-09T02:50:47.940259Z"
    }
   },
   "outputs": [],
   "source": [
    "items=[]\n",
    "for i in dups:\n",
    "    for n in range(len(dups)):\n",
    "        if i == dups[n]:\n",
    "             items.append (i )"
   ]
  },
  {
   "cell_type": "code",
   "execution_count": 16,
   "metadata": {
    "ExecuteTime": {
     "end_time": "2021-07-09T02:50:47.953103Z",
     "start_time": "2021-07-09T02:50:47.947390Z"
    }
   },
   "outputs": [
    {
     "data": {
      "text/plain": [
       "[1, 1, 2, 2, 2, 3, 5, 6, 7, 8, 8]"
      ]
     },
     "execution_count": 16,
     "metadata": {},
     "output_type": "execute_result"
    }
   ],
   "source": [
    "sorted(dups)"
   ]
  },
  {
   "cell_type": "code",
   "execution_count": 17,
   "metadata": {
    "ExecuteTime": {
     "end_time": "2021-07-09T02:50:47.960078Z",
     "start_time": "2021-07-09T02:50:47.956399Z"
    }
   },
   "outputs": [],
   "source": [
    "x = 1\n",
    "y = 1\n",
    "z = 1\n",
    "n = 2"
   ]
  },
  {
   "cell_type": "code",
   "execution_count": 18,
   "metadata": {
    "ExecuteTime": {
     "end_time": "2021-07-09T02:50:47.973311Z",
     "start_time": "2021-07-09T02:50:47.963052Z"
    }
   },
   "outputs": [
    {
     "name": "stdout",
     "output_type": "stream",
     "text": [
      "[[0, 0, 0], [0, 0, 1], [0, 1, 0], [1, 0, 0], [1, 1, 1]]\n"
     ]
    }
   ],
   "source": [
    "print ([[a,b,c] for a in range(0,x+1) for b in range(0,y+1) for c in range(0,z+1) if a + b + c != n ])"
   ]
  },
  {
   "cell_type": "code",
   "execution_count": 19,
   "metadata": {
    "ExecuteTime": {
     "end_time": "2021-07-09T02:50:47.978082Z",
     "start_time": "2021-07-09T02:50:47.975187Z"
    }
   },
   "outputs": [],
   "source": [
    "#test=['e', 's', 's', 's', 'n', 'n', 'e', 'w', 'n', 'n'] #False\n",
    "#test=['n','n','n','s','n','s','n','s','n','s']#False\n",
    "test=['n','s','n','s','n','s','n','s','n','s']#True"
   ]
  },
  {
   "cell_type": "code",
   "execution_count": 20,
   "metadata": {
    "ExecuteTime": {
     "end_time": "2021-07-09T02:50:47.985954Z",
     "start_time": "2021-07-09T02:50:47.981190Z"
    }
   },
   "outputs": [],
   "source": [
    "def is_valid_walk(walk):\n",
    "    return True if sum([1 if i == \"n\" else -1 if i== \"s\" else 0 for i in walk])==0 and sum([1 if i == \"w\" else -1 if i== \"e\" else 0 for i in walk])==0 and len(walk)==10 else False"
   ]
  },
  {
   "cell_type": "code",
   "execution_count": 21,
   "metadata": {
    "ExecuteTime": {
     "end_time": "2021-07-09T02:50:47.992411Z",
     "start_time": "2021-07-09T02:50:47.988421Z"
    },
    "scrolled": true
   },
   "outputs": [
    {
     "data": {
      "text/plain": [
       "True"
      ]
     },
     "execution_count": 21,
     "metadata": {},
     "output_type": "execute_result"
    }
   ],
   "source": [
    "is_valid_walk(test)"
   ]
  },
  {
   "cell_type": "code",
   "execution_count": 22,
   "metadata": {
    "ExecuteTime": {
     "end_time": "2021-07-09T02:50:47.998473Z",
     "start_time": "2021-07-09T02:50:47.995514Z"
    }
   },
   "outputs": [],
   "source": [
    "num=4"
   ]
  },
  {
   "cell_type": "code",
   "execution_count": 23,
   "metadata": {
    "ExecuteTime": {
     "end_time": "2021-07-09T02:50:48.006411Z",
     "start_time": "2021-07-09T02:50:48.001629Z"
    }
   },
   "outputs": [],
   "source": [
    "def to_decimal(n):\n",
    "    dec=[]\n",
    "    while n!= 0:\n",
    "        dec.append(str(n%2))\n",
    "        n=n//2\n",
    "    dec.reverse()\n",
    "    return \"\".join(dec)"
   ]
  },
  {
   "cell_type": "code",
   "execution_count": 24,
   "metadata": {
    "ExecuteTime": {
     "end_time": "2021-07-09T02:50:48.013899Z",
     "start_time": "2021-07-09T02:50:48.009050Z"
    }
   },
   "outputs": [
    {
     "data": {
      "text/plain": [
       "'100'"
      ]
     },
     "execution_count": 24,
     "metadata": {},
     "output_type": "execute_result"
    }
   ],
   "source": [
    "to_decimal(num)"
   ]
  },
  {
   "cell_type": "code",
   "execution_count": 25,
   "metadata": {
    "ExecuteTime": {
     "end_time": "2021-07-09T02:50:48.020312Z",
     "start_time": "2021-07-09T02:50:48.017551Z"
    }
   },
   "outputs": [],
   "source": [
    "s=10"
   ]
  },
  {
   "cell_type": "code",
   "execution_count": 26,
   "metadata": {
    "ExecuteTime": {
     "end_time": "2021-07-09T02:50:48.026967Z",
     "start_time": "2021-07-09T02:50:48.023138Z"
    }
   },
   "outputs": [],
   "source": [
    "def to_hours(s):\n",
    "    h=(s//3600)\n",
    "    s=s-(h*3600)\n",
    "    m=(s)//60\n",
    "    s=s-(m*60)\n",
    "    return \"{:02}:{:02}:{:02}\".format(h,m,s)\n",
    "    "
   ]
  },
  {
   "cell_type": "code",
   "execution_count": 27,
   "metadata": {
    "ExecuteTime": {
     "end_time": "2021-07-09T02:50:48.033609Z",
     "start_time": "2021-07-09T02:50:48.029760Z"
    },
    "scrolled": true
   },
   "outputs": [
    {
     "data": {
      "text/plain": [
       "'00:00:10'"
      ]
     },
     "execution_count": 27,
     "metadata": {},
     "output_type": "execute_result"
    }
   ],
   "source": [
    "to_hours(s)"
   ]
  },
  {
   "cell_type": "code",
   "execution_count": 28,
   "metadata": {
    "ExecuteTime": {
     "end_time": "2021-07-09T02:50:48.038002Z",
     "start_time": "2021-07-09T02:50:48.035566Z"
    }
   },
   "outputs": [],
   "source": [
    "dup=\"Indivisibilities\""
   ]
  },
  {
   "cell_type": "code",
   "execution_count": 29,
   "metadata": {
    "ExecuteTime": {
     "end_time": "2021-07-09T02:50:48.043366Z",
     "start_time": "2021-07-09T02:50:48.039879Z"
    }
   },
   "outputs": [],
   "source": [
    "def dup_count(s):\n",
    "    l=list(s.lower())\n",
    "    u=set(s.lower())\n",
    "    for i in u:\n",
    "        if i in l:\n",
    "            l.remove(i)\n",
    "    return len(set(l))"
   ]
  },
  {
   "cell_type": "code",
   "execution_count": 30,
   "metadata": {
    "ExecuteTime": {
     "end_time": "2021-07-09T02:50:48.050832Z",
     "start_time": "2021-07-09T02:50:48.046131Z"
    }
   },
   "outputs": [
    {
     "data": {
      "text/plain": [
       "2"
      ]
     },
     "execution_count": 30,
     "metadata": {},
     "output_type": "execute_result"
    }
   ],
   "source": [
    "dup_count(dup)"
   ]
  },
  {
   "cell_type": "code",
   "execution_count": 31,
   "metadata": {
    "ExecuteTime": {
     "end_time": "2021-07-09T02:50:48.059818Z",
     "start_time": "2021-07-09T02:50:48.053824Z"
    }
   },
   "outputs": [
    {
     "data": {
      "text/plain": [
       "7"
      ]
     },
     "execution_count": 31,
     "metadata": {},
     "output_type": "execute_result"
    }
   ],
   "source": [
    "list(dup.lower()).count(\"i\")"
   ]
  },
  {
   "cell_type": "code",
   "execution_count": 32,
   "metadata": {
    "ExecuteTime": {
     "end_time": "2021-07-09T02:50:48.066063Z",
     "start_time": "2021-07-09T02:50:48.062444Z"
    }
   },
   "outputs": [],
   "source": [
    "strarr = [\"zone\", \"abigail\", \"theta\", \"form\", \"libe\", \"zas\"]\n",
    "k = 2"
   ]
  },
  {
   "cell_type": "code",
   "execution_count": 33,
   "metadata": {
    "ExecuteTime": {
     "end_time": "2021-07-09T02:50:48.072342Z",
     "start_time": "2021-07-09T02:50:48.068636Z"
    }
   },
   "outputs": [],
   "source": [
    "def longest_consec(strarr, k):\n",
    "    if len(strarr)==0 or k>len(strarr) or k<=0:\n",
    "        return \"\"\n",
    "    else:\n",
    "        return \"other\""
   ]
  },
  {
   "cell_type": "code",
   "execution_count": 34,
   "metadata": {
    "ExecuteTime": {
     "end_time": "2021-07-09T02:50:48.079656Z",
     "start_time": "2021-07-09T02:50:48.075281Z"
    }
   },
   "outputs": [
    {
     "data": {
      "text/plain": [
       "'other'"
      ]
     },
     "execution_count": 34,
     "metadata": {},
     "output_type": "execute_result"
    }
   ],
   "source": [
    "longest_consec(strarr,k)"
   ]
  },
  {
   "cell_type": "code",
   "execution_count": 35,
   "metadata": {
    "ExecuteTime": {
     "end_time": "2021-07-09T02:50:48.089371Z",
     "start_time": "2021-07-09T02:50:48.082303Z"
    }
   },
   "outputs": [],
   "source": [
    "arr1=[-2,1,2,3,4]\n",
    "arr2=[5,6,7,8]"
   ]
  },
  {
   "cell_type": "code",
   "execution_count": 36,
   "metadata": {
    "ExecuteTime": {
     "end_time": "2021-07-09T02:50:48.098282Z",
     "start_time": "2021-07-09T02:50:48.094732Z"
    }
   },
   "outputs": [],
   "source": [
    "def merge_arrays(arr1, arr2):\n",
    "    return list(set(sorted(arr1+arr2)))"
   ]
  },
  {
   "cell_type": "code",
   "execution_count": 37,
   "metadata": {
    "ExecuteTime": {
     "end_time": "2021-07-09T02:50:48.106216Z",
     "start_time": "2021-07-09T02:50:48.101545Z"
    }
   },
   "outputs": [
    {
     "data": {
      "text/plain": [
       "[1, 2, 3, 4, 5, 6, 7, 8, -2]"
      ]
     },
     "execution_count": 37,
     "metadata": {},
     "output_type": "execute_result"
    }
   ],
   "source": [
    "merge_arrays(arr1, arr2)"
   ]
  },
  {
   "cell_type": "code",
   "execution_count": 38,
   "metadata": {
    "ExecuteTime": {
     "end_time": "2021-07-09T02:50:48.113233Z",
     "start_time": "2021-07-09T02:50:48.108526Z"
    }
   },
   "outputs": [
    {
     "data": {
      "text/plain": [
       "[-2, 1, 2, 3, 4, 5, 6, 7, 8]"
      ]
     },
     "execution_count": 38,
     "metadata": {},
     "output_type": "execute_result"
    }
   ],
   "source": [
    "sorted(set(arr1+arr2))"
   ]
  },
  {
   "cell_type": "code",
   "execution_count": 39,
   "metadata": {
    "ExecuteTime": {
     "end_time": "2021-07-09T02:50:48.118435Z",
     "start_time": "2021-07-09T02:50:48.115708Z"
    }
   },
   "outputs": [],
   "source": [
    "mat=[ \"abc\",\"def\"]"
   ]
  },
  {
   "cell_type": "code",
   "execution_count": 40,
   "metadata": {
    "ExecuteTime": {
     "end_time": "2021-07-09T02:50:48.126516Z",
     "start_time": "2021-07-09T02:50:48.121402Z"
    }
   },
   "outputs": [],
   "source": [
    "mat=[list(i) for i in mat]"
   ]
  },
  {
   "cell_type": "code",
   "execution_count": 41,
   "metadata": {
    "ExecuteTime": {
     "end_time": "2021-07-09T02:50:48.258989Z",
     "start_time": "2021-07-09T02:50:48.129565Z"
    }
   },
   "outputs": [
    {
     "ename": "TypeError",
     "evalue": "index expected at least 1 argument, got 0",
     "output_type": "error",
     "traceback": [
      "\u001b[0;31m---------------------------------------------------------------------------\u001b[0m",
      "\u001b[0;31mTypeError\u001b[0m                                 Traceback (most recent call last)",
      "\u001b[0;32m<ipython-input-41-63c547636028>\u001b[0m in \u001b[0;36m<module>\u001b[0;34m\u001b[0m\n\u001b[0;32m----> 1\u001b[0;31m \u001b[0mmat\u001b[0m\u001b[0;34m.\u001b[0m\u001b[0mindex\u001b[0m\u001b[0;34m(\u001b[0m\u001b[0;34m)\u001b[0m\u001b[0;34m\u001b[0m\u001b[0;34m\u001b[0m\u001b[0m\n\u001b[0m",
      "\u001b[0;31mTypeError\u001b[0m: index expected at least 1 argument, got 0"
     ]
    }
   ],
   "source": [
    "mat.index()"
   ]
  },
  {
   "cell_type": "code",
   "execution_count": null,
   "metadata": {
    "ExecuteTime": {
     "end_time": "2021-07-09T02:50:48.262006Z",
     "start_time": "2021-07-09T02:50:47.884Z"
    }
   },
   "outputs": [],
   "source": [
    "float(2,1)"
   ]
  },
  {
   "cell_type": "code",
   "execution_count": null,
   "metadata": {
    "ExecuteTime": {
     "end_time": "2021-07-09T02:50:48.263929Z",
     "start_time": "2021-07-09T02:50:47.885Z"
    }
   },
   "outputs": [],
   "source": [
    "a=[\"a\", \"g\",'b',1,4, 2]"
   ]
  },
  {
   "cell_type": "code",
   "execution_count": null,
   "metadata": {
    "ExecuteTime": {
     "end_time": "2021-07-09T02:50:48.265698Z",
     "start_time": "2021-07-09T02:50:47.886Z"
    }
   },
   "outputs": [],
   "source": [
    "sorted(a)"
   ]
  },
  {
   "cell_type": "code",
   "execution_count": null,
   "metadata": {
    "ExecuteTime": {
     "end_time": "2021-07-09T02:50:48.267461Z",
     "start_time": "2021-07-09T02:50:47.887Z"
    }
   },
   "outputs": [],
   "source": [
    "string= \"is2 Thi1s T4est 3a\""
   ]
  },
  {
   "cell_type": "code",
   "execution_count": null,
   "metadata": {
    "ExecuteTime": {
     "end_time": "2021-07-09T02:50:48.268947Z",
     "start_time": "2021-07-09T02:50:47.888Z"
    }
   },
   "outputs": [],
   "source": [
    "a=[]\n",
    "for i in string.split(\" \"):\n",
    "     a.append(i)\n"
   ]
  },
  {
   "cell_type": "code",
   "execution_count": null,
   "metadata": {
    "ExecuteTime": {
     "end_time": "2021-07-09T02:50:48.271048Z",
     "start_time": "2021-07-09T02:50:47.889Z"
    }
   },
   "outputs": [],
   "source": [
    "a"
   ]
  },
  {
   "cell_type": "code",
   "execution_count": null,
   "metadata": {
    "ExecuteTime": {
     "end_time": "2021-04-22T18:33:05.522345Z",
     "start_time": "2021-04-22T18:33:05.514835Z"
    }
   },
   "outputs": [],
   "source": []
  },
  {
   "cell_type": "code",
   "execution_count": null,
   "metadata": {},
   "outputs": [],
   "source": []
  }
 ],
 "metadata": {
  "kernelspec": {
   "display_name": "Python 3",
   "language": "python",
   "name": "python3"
  },
  "language_info": {
   "codemirror_mode": {
    "name": "ipython",
    "version": 3
   },
   "file_extension": ".py",
   "mimetype": "text/x-python",
   "name": "python",
   "nbconvert_exporter": "python",
   "pygments_lexer": "ipython3",
   "version": "3.8.3"
  }
 },
 "nbformat": 4,
 "nbformat_minor": 4
}
