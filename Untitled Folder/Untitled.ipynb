{
 "cells": [
  {
   "cell_type": "code",
   "execution_count": 1,
   "metadata": {
    "ExecuteTime": {
     "end_time": "2021-07-25T16:29:45.163757Z",
     "start_time": "2021-07-25T16:29:44.560112Z"
    }
   },
   "outputs": [],
   "source": [
    "import pandas as pd"
   ]
  },
  {
   "cell_type": "code",
   "execution_count": 3,
   "metadata": {
    "ExecuteTime": {
     "end_time": "2021-07-25T16:30:12.173292Z",
     "start_time": "2021-07-25T16:30:11.985680Z"
    }
   },
   "outputs": [],
   "source": [
    "df=pd.read_csv('https://s3.amazonaws.com/interview.thefarmersdog.com/DA20b/general_store_sample_data.csv')"
   ]
  },
  {
   "cell_type": "code",
   "execution_count": 4,
   "metadata": {
    "ExecuteTime": {
     "end_time": "2021-07-25T16:30:53.028520Z",
     "start_time": "2021-07-25T16:30:53.014493Z"
    }
   },
   "outputs": [
    {
     "data": {
      "text/html": [
       "<div>\n",
       "<style scoped>\n",
       "    .dataframe tbody tr th:only-of-type {\n",
       "        vertical-align: middle;\n",
       "    }\n",
       "\n",
       "    .dataframe tbody tr th {\n",
       "        vertical-align: top;\n",
       "    }\n",
       "\n",
       "    .dataframe thead th {\n",
       "        text-align: right;\n",
       "    }\n",
       "</style>\n",
       "<table border=\"1\" class=\"dataframe\">\n",
       "  <thead>\n",
       "    <tr style=\"text-align: right;\">\n",
       "      <th></th>\n",
       "      <th>product_group</th>\n",
       "      <th>country</th>\n",
       "      <th>year</th>\n",
       "      <th>revenue</th>\n",
       "    </tr>\n",
       "  </thead>\n",
       "  <tbody>\n",
       "    <tr>\n",
       "      <th>0</th>\n",
       "      <td>automobile</td>\n",
       "      <td>BR</td>\n",
       "      <td>2012</td>\n",
       "      <td>206937.326525</td>\n",
       "    </tr>\n",
       "    <tr>\n",
       "      <th>1</th>\n",
       "      <td>automobile</td>\n",
       "      <td>BR</td>\n",
       "      <td>2013</td>\n",
       "      <td>199547.386832</td>\n",
       "    </tr>\n",
       "    <tr>\n",
       "      <th>2</th>\n",
       "      <td>automobile</td>\n",
       "      <td>BR</td>\n",
       "      <td>2014</td>\n",
       "      <td>192515.411446</td>\n",
       "    </tr>\n",
       "    <tr>\n",
       "      <th>3</th>\n",
       "      <td>automobile</td>\n",
       "      <td>CA</td>\n",
       "      <td>2012</td>\n",
       "      <td>197552.325143</td>\n",
       "    </tr>\n",
       "    <tr>\n",
       "      <th>4</th>\n",
       "      <td>automobile</td>\n",
       "      <td>CA</td>\n",
       "      <td>2013</td>\n",
       "      <td>197965.016752</td>\n",
       "    </tr>\n",
       "    <tr>\n",
       "      <th>...</th>\n",
       "      <td>...</td>\n",
       "      <td>...</td>\n",
       "      <td>...</td>\n",
       "      <td>...</td>\n",
       "    </tr>\n",
       "    <tr>\n",
       "      <th>175</th>\n",
       "      <td>office supplies</td>\n",
       "      <td>ZA</td>\n",
       "      <td>2013</td>\n",
       "      <td>208051.353956</td>\n",
       "    </tr>\n",
       "    <tr>\n",
       "      <th>176</th>\n",
       "      <td>office supplies</td>\n",
       "      <td>ZA</td>\n",
       "      <td>2014</td>\n",
       "      <td>214117.720539</td>\n",
       "    </tr>\n",
       "    <tr>\n",
       "      <th>177</th>\n",
       "      <td>office supplies</td>\n",
       "      <td>ZH</td>\n",
       "      <td>2012</td>\n",
       "      <td>189211.781700</td>\n",
       "    </tr>\n",
       "    <tr>\n",
       "      <th>178</th>\n",
       "      <td>office supplies</td>\n",
       "      <td>ZH</td>\n",
       "      <td>2013</td>\n",
       "      <td>191593.130571</td>\n",
       "    </tr>\n",
       "    <tr>\n",
       "      <th>179</th>\n",
       "      <td>office supplies</td>\n",
       "      <td>ZH</td>\n",
       "      <td>2014</td>\n",
       "      <td>199955.850031</td>\n",
       "    </tr>\n",
       "  </tbody>\n",
       "</table>\n",
       "<p>180 rows × 4 columns</p>\n",
       "</div>"
      ],
      "text/plain": [
       "       product_group country  year        revenue\n",
       "0         automobile      BR  2012  206937.326525\n",
       "1         automobile      BR  2013  199547.386832\n",
       "2         automobile      BR  2014  192515.411446\n",
       "3         automobile      CA  2012  197552.325143\n",
       "4         automobile      CA  2013  197965.016752\n",
       "..               ...     ...   ...            ...\n",
       "175  office supplies      ZA  2013  208051.353956\n",
       "176  office supplies      ZA  2014  214117.720539\n",
       "177  office supplies      ZH  2012  189211.781700\n",
       "178  office supplies      ZH  2013  191593.130571\n",
       "179  office supplies      ZH  2014  199955.850031\n",
       "\n",
       "[180 rows x 4 columns]"
      ]
     },
     "execution_count": 4,
     "metadata": {},
     "output_type": "execute_result"
    }
   ],
   "source": [
    "df"
   ]
  },
  {
   "cell_type": "code",
   "execution_count": 11,
   "metadata": {
    "ExecuteTime": {
     "end_time": "2021-07-25T16:35:12.279731Z",
     "start_time": "2021-07-25T16:35:12.268209Z"
    }
   },
   "outputs": [],
   "source": [
    "df.to_csv('farmers_dog')"
   ]
  },
  {
   "cell_type": "code",
   "execution_count": null,
   "metadata": {},
   "outputs": [],
   "source": []
  }
 ],
 "metadata": {
  "kernelspec": {
   "display_name": "Python 3",
   "language": "python",
   "name": "python3"
  },
  "language_info": {
   "codemirror_mode": {
    "name": "ipython",
    "version": 3
   },
   "file_extension": ".py",
   "mimetype": "text/x-python",
   "name": "python",
   "nbconvert_exporter": "python",
   "pygments_lexer": "ipython3",
   "version": "3.8.3"
  }
 },
 "nbformat": 4,
 "nbformat_minor": 4
}
